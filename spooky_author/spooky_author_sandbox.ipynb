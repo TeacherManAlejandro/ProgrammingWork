{
 "cells": [
  {
   "cell_type": "code",
   "execution_count": 1,
   "metadata": {},
   "outputs": [
    {
     "data": {
      "text/html": [
       "<div>\n",
       "<style>\n",
       "    .dataframe thead tr:only-child th {\n",
       "        text-align: right;\n",
       "    }\n",
       "\n",
       "    .dataframe thead th {\n",
       "        text-align: left;\n",
       "    }\n",
       "\n",
       "    .dataframe tbody tr th {\n",
       "        vertical-align: top;\n",
       "    }\n",
       "</style>\n",
       "<table border=\"1\" class=\"dataframe\">\n",
       "  <thead>\n",
       "    <tr style=\"text-align: right;\">\n",
       "      <th></th>\n",
       "      <th>id</th>\n",
       "      <th>text</th>\n",
       "      <th>author</th>\n",
       "    </tr>\n",
       "  </thead>\n",
       "  <tbody>\n",
       "    <tr>\n",
       "      <th>0</th>\n",
       "      <td>id26305</td>\n",
       "      <td>This process, however, afforded me no means of...</td>\n",
       "      <td>EAP</td>\n",
       "    </tr>\n",
       "    <tr>\n",
       "      <th>1</th>\n",
       "      <td>id17569</td>\n",
       "      <td>It never once occurred to me that the fumbling...</td>\n",
       "      <td>HPL</td>\n",
       "    </tr>\n",
       "    <tr>\n",
       "      <th>2</th>\n",
       "      <td>id11008</td>\n",
       "      <td>In his left hand was a gold snuff box, from wh...</td>\n",
       "      <td>EAP</td>\n",
       "    </tr>\n",
       "    <tr>\n",
       "      <th>3</th>\n",
       "      <td>id27763</td>\n",
       "      <td>How lovely is spring As we looked from Windsor...</td>\n",
       "      <td>MWS</td>\n",
       "    </tr>\n",
       "    <tr>\n",
       "      <th>4</th>\n",
       "      <td>id12958</td>\n",
       "      <td>Finding nothing else, not even gold, the Super...</td>\n",
       "      <td>HPL</td>\n",
       "    </tr>\n",
       "  </tbody>\n",
       "</table>\n",
       "</div>"
      ],
      "text/plain": [
       "        id                                               text author\n",
       "0  id26305  This process, however, afforded me no means of...    EAP\n",
       "1  id17569  It never once occurred to me that the fumbling...    HPL\n",
       "2  id11008  In his left hand was a gold snuff box, from wh...    EAP\n",
       "3  id27763  How lovely is spring As we looked from Windsor...    MWS\n",
       "4  id12958  Finding nothing else, not even gold, the Super...    HPL"
      ]
     },
     "execution_count": 1,
     "metadata": {},
     "output_type": "execute_result"
    }
   ],
   "source": [
    "# read in some helpful libraries\n",
    "import nltk # the natural langauage toolkit, open-source NLP\n",
    "import pandas as pd # dataframes\n",
    "\n",
    "### Read in the data\n",
    "\n",
    "# read our data into a dataframe\n",
    "all_texts = pd.read_csv(\"train_data_spooky_author.csv\")\n",
    "\n",
    "# look at the first few rows\n",
    "all_texts.head()"
   ]
  },
  {
   "cell_type": "code",
   "execution_count": 3,
   "metadata": {
    "collapsed": true
   },
   "outputs": [],
   "source": [
    "# Only need to do this once\n",
    "# nltk.download('popular')"
   ]
  },
  {
   "cell_type": "code",
   "execution_count": 2,
   "metadata": {
    "collapsed": true
   },
   "outputs": [],
   "source": [
    "### Split data\n",
    "\n",
    "# split the data by author\n",
    "byAuthor = all_texts.groupby(\"author\")\n",
    "\n",
    "### Tokenize (split into individual words) our text\n",
    "\n",
    "# word frequency by author\n",
    "wordFreqByAuthor = nltk.probability.ConditionalFreqDist()\n"
   ]
  },
  {
   "cell_type": "code",
   "execution_count": 3,
   "metadata": {},
   "outputs": [
    {
     "data": {
      "text/plain": [
       "'This process, however, afforded me no means of ascertaining the dimensions of my dungeon; as I might make its circuit, and return to the point whence I set out, without being aware of the fact; so perfectly uniform seemed the wall.'"
      ]
     },
     "execution_count": 3,
     "metadata": {},
     "output_type": "execute_result"
    }
   ],
   "source": [
    "i = iter(byAuthor)\n",
    "n = next(i)\n",
    "n[1].loc[0]['text']"
   ]
  },
  {
   "cell_type": "code",
   "execution_count": 6,
   "metadata": {},
   "outputs": [
    {
     "data": {
      "text/plain": [
       "('HPL',\n",
       "             id                                               text author\n",
       " 1      id17569  It never once occurred to me that the fumbling...    HPL\n",
       " 4      id12958  Finding nothing else, not even gold, the Super...    HPL\n",
       " 12     id19764  Herbert West needed fresh bodies because his l...    HPL\n",
       " 13     id18886  The farm like grounds extended back very deepl...    HPL\n",
       " 19     id20836  His facial aspect, too, was remarkable for its...    HPL\n",
       " 21     id08075  It was not that the sounds were hideous, for t...    HPL\n",
       " 28     id27907  Our compasses, depth gauges, and other delicat...    HPL\n",
       " 29     id08121  This the young warriors took back with them to...    HPL\n",
       " 33     id11733               Even now They talked in Their tombs.    HPL\n",
       " 34     id03205  Sheehan especially did they ply with inquiries...    HPL\n",
       " 35     id01948  He cried aloud once, and a little later gave a...    HPL\n",
       " 36     id22412  The old tracks crossed River Street at grade, ...    HPL\n",
       " 38     id00144  After the first start, he replaced the tissue ...    HPL\n",
       " 40     id01577  Wilbur's growth was indeed phenomenal, for wit...    HPL\n",
       " 41     id01651  Pausing, I succeeded with difficulty in raisin...    HPL\n",
       " 42     id27080  It was all mud an' water, an' the sky was dark...    HPL\n",
       " 47     id19180  And the children's children, and the newcomers...    HPL\n",
       " 48     id02236  Dr. Johnson, as I beheld him, was a full, purs...    HPL\n",
       " 55     id17654  I have indistinct recollections of a great sto...    HPL\n",
       " 56     id20824  There had seemed to be no one in the courtyard...    HPL\n",
       " 61     id07779  Nothing, however, occurred except some hill no...    HPL\n",
       " 63     id10634  It was getting dark, and the ancient roofs and...    HPL\n",
       " 67     id24464  Again he seemed to be in the interior of a hou...    HPL\n",
       " 70     id06749  \"And what about the window panes?\" \"They were ...    HPL\n",
       " 76     id24823  In a week or two it had visibly faded, and in ...    HPL\n",
       " 81     id13267  Within twenty four hours that machine near the...    HPL\n",
       " 82     id06001  \"Everybody got aout o' the idee o' dyin' excep...    HPL\n",
       " 85     id10154  Ahead lay sparse grass and scrub blueberry bus...    HPL\n",
       " 99     id04451  Everyone seemed inclined to be silent now, as ...    HPL\n",
       " 102    id03072  I vaow afur Gawd, I dun't know what he wants n...    HPL\n",
       " ...        ...                                                ...    ...\n",
       " 19447  id05792  We may guess that in dreams life, matter, and ...    HPL\n",
       " 19449  id25838  The nightmare was quick to come; for as I ente...    HPL\n",
       " 19453  id18715  Come, Mister Randy, or Hannah wun't keep suppe...    HPL\n",
       " 19464  id25074  He said he had risen up out of the blackness o...    HPL\n",
       " 19467  id07051  Why should he seek to avenge the death of poor...    HPL\n",
       " 19472  id07900  And them men them can't be niggers they dew be...    HPL\n",
       " 19475  id16730  Never could they realise that their brute foun...    HPL\n",
       " 19477  id06101  I heard them in my youth from the lips of a pl...    HPL\n",
       " 19479  id24236  West and I were almost dead, and Dr. Halsey di...    HPL\n",
       " 19483  id08316  It was partly human, beyond a doubt, with very...    HPL\n",
       " 19486  id05059  How long it might require to evoke and extingu...    HPL\n",
       " 19487  id13338  There was not, I soon decided, any reason why ...    HPL\n",
       " 19488  id17584  It was not easy to find a good opening for two...    HPL\n",
       " 19490  id09773  The villagers had shunned the car and the driv...    HPL\n",
       " 19501  id08361  For my contact with this affair has been close...    HPL\n",
       " 19509  id01702  We knew that there was scarcely a chance for a...    HPL\n",
       " 19517  id12057  \"Wal, Sir, it seems by the time Obed knowed th...    HPL\n",
       " 19520  id23500  We were not, as I have said, in any sense chil...    HPL\n",
       " 19521  id06692  His full name long and pompous according to th...    HPL\n",
       " 19522  id05873             Whence he had come, no one could tell.    HPL\n",
       " 19523  id10202  Once more came the voice of my friend, still h...    HPL\n",
       " 19538  id11033  He vows that I was broken down with nervous st...    HPL\n",
       " 19540  id24299  The process of unearthing was slow and sordid ...    HPL\n",
       " 19547  id16941            Where did he go sometimes in the night?    HPL\n",
       " 19548  id23788  I do not think that many of Sheehan's regular ...    HPL\n",
       " 19554  id07976  They admitted they had been drunk, but both vo...    HPL\n",
       " 19559  id18823  When a fumbling came in the nearer casements h...    HPL\n",
       " 19561  id08678  Average people in society and business New Eng...    HPL\n",
       " 19571  id14420  My watch was still going, and told me that the...    HPL\n",
       " 19578  id00393  He laid a gnarled claw on my shoulder, and it ...    HPL\n",
       " \n",
       " [5635 rows x 3 columns])"
      ]
     },
     "execution_count": 6,
     "metadata": {},
     "output_type": "execute_result"
    }
   ],
   "source": [
    "n\n"
   ]
  },
  {
   "cell_type": "code",
   "execution_count": 30,
   "metadata": {},
   "outputs": [
    {
     "data": {
      "text/plain": [
       "0     True\n",
       "2    False\n",
       "6     True\n",
       "7    False\n",
       "8    False\n",
       "Name: text, dtype: bool"
      ]
     },
     "execution_count": 30,
     "metadata": {},
     "output_type": "execute_result"
    }
   ],
   "source": [
    "s=n[1]['text'].str\n",
    "s.endswith('l.').head()"
   ]
  },
  {
   "cell_type": "code",
   "execution_count": null,
   "metadata": {
    "collapsed": true
   },
   "outputs": [],
   "source": [
    "\n",
    "# for each author...\n",
    "#for name, group in byAuthor:\n",
    "    name, group = n:\n",
    "    # get all of the sentences they wrote and collapse them into a\n",
    "    # single long string\n",
    "    sentences = group['text'].str.cat(sep = ' ')\n",
    "    \n",
    "    # convert everything to lower case (so \"The\" and \"the\" get counted as \n",
    "    # the same word rather than two different words)\n",
    "    sentences = sentences.lower()\n",
    "    \n",
    "    # split the text into individual tokens    \n",
    "    tokens = nltk.tokenize.word_tokenize(sentences)\n",
    "    \n",
    "    # calculate the frequency of each token\n",
    "    frequency = nltk.FreqDist(tokens)\n",
    "\n",
    "    # add the frequencies for each author to our dictionary\n",
    "    wordFreqByAuthor[name] = (frequency)\n",
    "    \n",
    "# now we have an dictionary where each entry is the frequency distrobution\n",
    "# of words for a specific author.     "
   ]
  },
  {
   "cell_type": "code",
   "execution_count": 74,
   "metadata": {},
   "outputs": [
    {
     "data": {
      "text/plain": [
       "2"
      ]
     },
     "execution_count": 74,
     "metadata": {},
     "output_type": "execute_result"
    }
   ],
   "source": [
    "from nltk.corpus import cmudict\n",
    "\n",
    "def syllables(word):\n",
    "    #referred from stackoverflow.com/questions/14541303/count-the-number-of-syllables-in-a-word\n",
    "    count = 0\n",
    "    vowels = 'aeiouy'\n",
    "    word = word.lower()\n",
    "    if word[0] in vowels:\n",
    "        count +=1\n",
    "    for index in range(1,len(word)):\n",
    "        if word[index] in vowels and word[index-1] not in vowels:\n",
    "            count +=1\n",
    "    if word.endswith('e'):\n",
    "        count -= 1\n",
    "    if word.endswith('le'):\n",
    "        count+=1\n",
    "    if count == 0:\n",
    "        count +=1\n",
    "    return count\n",
    "\n",
    "cmudictionary = cmudict.dict()\n",
    "def nsyl(word):\n",
    "    global cmudictionary\n",
    "    try:\n",
    "        res = [len(list(y for y in x if y[-1].isdigit())) for x in d[word.lower()]][0]\n",
    "    except KeyError:\n",
    "        res = syllables(word)\n",
    "        \n",
    "    return res\n",
    "        \n",
    "nsyl('hello')\n"
   ]
  },
  {
   "cell_type": "code",
   "execution_count": 160,
   "metadata": {},
   "outputs": [
    {
     "name": "stdout",
     "output_type": "stream",
     "text": [
      "Hi\n"
     ]
    }
   ],
   "source": [
    "if \"d\": print('Hi')"
   ]
  },
  {
   "cell_type": "code",
   "execution_count": 237,
   "metadata": {},
   "outputs": [
    {
     "data": {
      "text/plain": [
       "4"
      ]
     },
     "execution_count": 237,
     "metadata": {},
     "output_type": "execute_result"
    }
   ],
   "source": [
    "# Return the number of syllables per sentence in a sample of text.  Ignore blank sentences\n",
    "# Returns a list of ints\n",
    "\n",
    "def nsyl_in_sample(text, numsyls=1):\n",
    "        if not text: return 0 # skip any empty sentences\n",
    "        \n",
    "        sylls = [nsyl(word) for word in text.split()]\n",
    "        return sum([s for s in sylls if s == numsyls])\n",
    "        \n",
    "sample = all_texts.loc[0,'text']\n",
    "nsyl_in_sample(sample,4)"
   ]
  },
  {
   "cell_type": "code",
   "execution_count": null,
   "metadata": {
    "collapsed": true
   },
   "outputs": [],
   "source": [
    "def count_sentences(text):\n",
    "    corp_read = nltk.corpus.StringCategoryCorpusReader"
   ]
  },
  {
   "cell_type": "code",
   "execution_count": 239,
   "metadata": {
    "collapsed": true
   },
   "outputs": [],
   "source": [
    "all_texts['4_syl_words'] = all_texts['text'].apply(lambda t: nsyl_in_sample(t, 4))\n"
   ]
  },
  {
   "cell_type": "code",
   "execution_count": 184,
   "metadata": {
    "collapsed": true
   },
   "outputs": [],
   "source": [
    "all_texts['syl_count'] = all_texts['text'].apply(nsyl_in_sample)"
   ]
  },
  {
   "cell_type": "code",
   "execution_count": 188,
   "metadata": {
    "collapsed": true
   },
   "outputs": [],
   "source": [
    "all_texts['word_count'] = all_texts['text'].apply(lambda t: len(t.split()))"
   ]
  },
  {
   "cell_type": "code",
   "execution_count": 190,
   "metadata": {
    "collapsed": true
   },
   "outputs": [],
   "source": [
    "byAuthor = all_texts.groupby('author')"
   ]
  },
  {
   "cell_type": "code",
   "execution_count": 191,
   "metadata": {
    "collapsed": true
   },
   "outputs": [],
   "source": [
    "i=iter(byAuthor)"
   ]
  },
  {
   "cell_type": "code",
   "execution_count": 214,
   "metadata": {},
   "outputs": [
    {
     "ename": "StopIteration",
     "evalue": "",
     "output_type": "error",
     "traceback": [
      "\u001b[1;31m---------------------------------------------------------------------------\u001b[0m",
      "\u001b[1;31mStopIteration\u001b[0m                             Traceback (most recent call last)",
      "\u001b[1;32m<ipython-input-214-64e75c1cb341>\u001b[0m in \u001b[0;36m<module>\u001b[1;34m()\u001b[0m\n\u001b[1;32m----> 1\u001b[1;33m \u001b[0mh\u001b[0m\u001b[1;33m=\u001b[0m\u001b[0mnext\u001b[0m\u001b[1;33m(\u001b[0m\u001b[0mi\u001b[0m\u001b[1;33m)\u001b[0m\u001b[1;33m\u001b[0m\u001b[0m\n\u001b[0m",
      "\u001b[1;31mStopIteration\u001b[0m: "
     ]
    }
   ],
   "source": [
    "h=next(i)"
   ]
  },
  {
   "cell_type": "code",
   "execution_count": null,
   "metadata": {
    "collapsed": true
   },
   "outputs": [],
   "source": []
  },
  {
   "cell_type": "code",
   "execution_count": 213,
   "metadata": {
    "collapsed": true
   },
   "outputs": [],
   "source": [
    "mws_texts=h[1]"
   ]
  },
  {
   "cell_type": "code",
   "execution_count": 197,
   "metadata": {
    "collapsed": true
   },
   "outputs": [],
   "source": [
    "all_tex"
   ]
  },
  {
   "cell_type": "code",
   "execution_count": 281,
   "metadata": {
    "collapsed": true
   },
   "outputs": [],
   "source": [
    "import matplotlib.pyplot as plt\n",
    "import seaborn as sns\n",
    "#_ = plt.hist(eap_texts['syl_count'], bins=100, range=(0,400))\n",
    "#plt.title(\"Edgar Alan Poe\")\n",
    "def do_distplot(texts, colname, divideby_col, x_range=None, colors=['skyblue','red','green']):\n",
    "    hist_keywords = dict()\n",
    "    if x_range: hist_keywords['range'] = (0, x_range)\n",
    "    for author_corpus, color in zip(texts, colors):\n",
    "        author = author_corpus.iloc[0]['author']\n",
    "        if not divideby_col:\n",
    "            to_plot=author_corpus[colname]\n",
    "        else:\n",
    "            to_plot=author_corpus[colname]/author_corpus[divideby_col]\n",
    "        sns.distplot( to_plot , kde=False, bins=100, color=color, label=author, hist_kws=hist_keywords)\n",
    "    plt.legend()\n"
   ]
  },
  {
   "cell_type": "code",
   "execution_count": 286,
   "metadata": {},
   "outputs": [
    {
     "data": {
      "image/png": "[encoded data removed]",
      "text/plain": [
       "<matplotlib.figure.Figure at 0x1c461358>"
      ]
     },
     "metadata": {},
     "output_type": "display_data"
    }
   ],
   "source": [
    "\n",
    "do_distplot([group for _, group in byAuthor], '4_syl_words','word_count', x_range=1)"
   ]
  },
  {
   "cell_type": "code",
   "execution_count": 282,
   "metadata": {},
   "outputs": [
    {
     "data": {
      "text/plain": [
       "id                                                       id26305\n",
       "text           This process, however, afforded me no means of...\n",
       "author                                                       EAP\n",
       "sent_count                                                     1\n",
       "syl_count                                                     61\n",
       "word_count                                                    41\n",
       "3_syl_words                                                   15\n",
       "4_syl_words                                                    4\n",
       "Name: 0, dtype: object"
      ]
     },
     "execution_count": 282,
     "metadata": {},
     "output_type": "execute_result"
    }
   ],
   "source": [
    "all_texts.iloc[0]"
   ]
  },
  {
   "cell_type": "code",
   "execution_count": null,
   "metadata": {
    "collapsed": true
   },
   "outputs": [],
   "source": []
  },
  {
   "cell_type": "code",
   "execution_count": 227,
   "metadata": {},
   "outputs": [
    {
     "data": {
      "text/plain": [
       "<matplotlib.text.Text at 0x14c61ba8>"
      ]
     },
     "execution_count": 227,
     "metadata": {},
     "output_type": "execute_result"
    },
    {
     "data": {
      "image/png": "[encoded data removed]",
      "text/plain": [
       "<matplotlib.figure.Figure at 0x12a9f128>"
      ]
     },
     "metadata": {},
     "output_type": "display_data"
    }
   ],
   "source": [
    "source = mws_texts\n",
    "_ = plt.hist(source['syl_count'], bins=100, range=(0,400))\n",
    "plt.title(source.iloc[0]['author'] + ' syllable count')"
   ]
  },
  {
   "cell_type": "code",
   "execution_count": 207,
   "metadata": {},
   "outputs": [
    {
     "data": {
      "image/png": "[encoded data removed]",
      "text/plain": [
       "<matplotlib.figure.Figure at 0x131eb588>"
      ]
     },
     "metadata": {},
     "output_type": "display_data"
    }
   ],
   "source": [
    "source = mws_texts\n",
    "_= plt.hist(source['syl_count']/source['word_count'], bins=100)\n",
    "plt.titls(source.loc[0,'author'] + ' syllables per word')"
   ]
  },
  {
   "cell_type": "code",
   "execution_count": 220,
   "metadata": {},
   "outputs": [
    {
     "data": {
      "text/plain": [
       "<matplotlib.text.Text at 0x1381c908>"
      ]
     },
     "execution_count": 220,
     "metadata": {},
     "output_type": "execute_result"
    },
    {
     "data": {
      "image/png": "[encoded data removed]",
      "text/plain": [
       "<matplotlib.figure.Figure at 0x149ab978>"
      ]
     },
     "metadata": {},
     "output_type": "display_data"
    }
   ],
   "source": [
    "source = mws_texts\n",
    "_= plt.hist(source['syl_count']/source['word_count'], bins=100)\n",
    "plt.title(source.iloc[0]['author'] + ' syllables per word')"
   ]
  },
  {
   "cell_type": "code",
   "execution_count": 221,
   "metadata": {},
   "outputs": [
    {
     "data": {
      "text/plain": [
       "<matplotlib.text.Text at 0x1343ccc0>"
      ]
     },
     "execution_count": 221,
     "metadata": {},
     "output_type": "execute_result"
    },
    {
     "data": {
      "image/png": "[encoded data removed]",
      "text/plain": [
       "<matplotlib.figure.Figure at 0x12da00b8>"
      ]
     },
     "metadata": {},
     "output_type": "display_data"
    }
   ],
   "source": [
    "source = hpl_texts\n",
    "_= plt.hist(source['syl_count']/source['word_count'], bins=100)\n",
    "plt.title(source.iloc[0]['author'] + ' syllables per word')"
   ]
  },
  {
   "cell_type": "code",
   "execution_count": 292,
   "metadata": {},
   "outputs": [
    {
     "data": {
      "text/html": [
       "<div>\n",
       "<style>\n",
       "    .dataframe thead tr:only-child th {\n",
       "        text-align: right;\n",
       "    }\n",
       "\n",
       "    .dataframe thead th {\n",
       "        text-align: left;\n",
       "    }\n",
       "\n",
       "    .dataframe tbody tr th {\n",
       "        vertical-align: top;\n",
       "    }\n",
       "</style>\n",
       "<table border=\"1\" class=\"dataframe\">\n",
       "  <thead>\n",
       "    <tr style=\"text-align: right;\">\n",
       "      <th></th>\n",
       "      <th>id</th>\n",
       "      <th>text</th>\n",
       "      <th>author</th>\n",
       "      <th>sent_count</th>\n",
       "      <th>syl_count</th>\n",
       "      <th>word_count</th>\n",
       "      <th>3_syl_words</th>\n",
       "      <th>4_syl_words</th>\n",
       "    </tr>\n",
       "  </thead>\n",
       "  <tbody>\n",
       "    <tr>\n",
       "      <th>0</th>\n",
       "      <td>id26305</td>\n",
       "      <td>This process, however, afforded me no means of...</td>\n",
       "      <td>EAP</td>\n",
       "      <td>1</td>\n",
       "      <td>61</td>\n",
       "      <td>41</td>\n",
       "      <td>15</td>\n",
       "      <td>4</td>\n",
       "    </tr>\n",
       "  </tbody>\n",
       "</table>\n",
       "</div>"
      ],
      "text/plain": [
       "        id                                               text author  \\\n",
       "0  id26305  This process, however, afforded me no means of...    EAP   \n",
       "\n",
       "   sent_count  syl_count  word_count  3_syl_words  4_syl_words  \n",
       "0           1         61          41           15            4  "
      ]
     },
     "execution_count": 292,
     "metadata": {},
     "output_type": "execute_result"
    }
   ],
   "source": [
    "all_texts.iloc[0:1]"
   ]
  },
  {
   "cell_type": "code",
   "execution_count": null,
   "metadata": {
    "collapsed": true
   },
   "outputs": [],
   "source": []
  },
  {
   "cell_type": "code",
   "execution_count": 298,
   "metadata": {},
   "outputs": [
    {
     "data": {
      "text/html": [
       "<div>\n",
       "<style>\n",
       "    .dataframe thead tr:only-child th {\n",
       "        text-align: right;\n",
       "    }\n",
       "\n",
       "    .dataframe thead th {\n",
       "        text-align: left;\n",
       "    }\n",
       "\n",
       "    .dataframe tbody tr th {\n",
       "        vertical-align: top;\n",
       "    }\n",
       "</style>\n",
       "<table border=\"1\" class=\"dataframe\">\n",
       "  <thead>\n",
       "    <tr style=\"text-align: right;\">\n",
       "      <th></th>\n",
       "      <th>text</th>\n",
       "      <th>sent_count</th>\n",
       "      <th>syl_count</th>\n",
       "      <th>word_count</th>\n",
       "      <th>3_syl_words</th>\n",
       "      <th>4_syl_words</th>\n",
       "    </tr>\n",
       "  </thead>\n",
       "  <tbody>\n",
       "    <tr>\n",
       "      <th>0</th>\n",
       "      <td>This process, however, afforded me no means of...</td>\n",
       "      <td>1</td>\n",
       "      <td>61</td>\n",
       "      <td>41</td>\n",
       "      <td>15</td>\n",
       "      <td>4</td>\n",
       "    </tr>\n",
       "    <tr>\n",
       "      <th>1</th>\n",
       "      <td>It never once occurred to me that the fumbling...</td>\n",
       "      <td>1</td>\n",
       "      <td>20</td>\n",
       "      <td>14</td>\n",
       "      <td>6</td>\n",
       "      <td>0</td>\n",
       "    </tr>\n",
       "    <tr>\n",
       "      <th>2</th>\n",
       "      <td>In his left hand was a gold snuff box, from wh...</td>\n",
       "      <td>1</td>\n",
       "      <td>51</td>\n",
       "      <td>36</td>\n",
       "      <td>9</td>\n",
       "      <td>8</td>\n",
       "    </tr>\n",
       "    <tr>\n",
       "      <th>3</th>\n",
       "      <td>How lovely is spring As we looked from Windsor...</td>\n",
       "      <td>1</td>\n",
       "      <td>49</td>\n",
       "      <td>34</td>\n",
       "      <td>6</td>\n",
       "      <td>0</td>\n",
       "    </tr>\n",
       "    <tr>\n",
       "      <th>4</th>\n",
       "      <td>Finding nothing else, not even gold, the Super...</td>\n",
       "      <td>1</td>\n",
       "      <td>47</td>\n",
       "      <td>27</td>\n",
       "      <td>6</td>\n",
       "      <td>0</td>\n",
       "    </tr>\n",
       "  </tbody>\n",
       "</table>\n",
       "</div>"
      ],
      "text/plain": [
       "                                                text  sent_count  syl_count  \\\n",
       "0  This process, however, afforded me no means of...           1         61   \n",
       "1  It never once occurred to me that the fumbling...           1         20   \n",
       "2  In his left hand was a gold snuff box, from wh...           1         51   \n",
       "3  How lovely is spring As we looked from Windsor...           1         49   \n",
       "4  Finding nothing else, not even gold, the Super...           1         47   \n",
       "\n",
       "   word_count  3_syl_words  4_syl_words  \n",
       "0          41           15            4  \n",
       "1          14            6            0  \n",
       "2          36            9            8  \n",
       "3          34            6            0  \n",
       "4          27            6            0  "
      ]
     },
     "execution_count": 298,
     "metadata": {},
     "output_type": "execute_result"
    }
   ],
   "source": [
    "all_texts.drop(['author', 'id'], axis=1).head()"
   ]
  },
  {
   "cell_type": "code",
   "execution_count": 299,
   "metadata": {
    "collapsed": true
   },
   "outputs": [],
   "source": [
    "from sklearn.model_selection import train_test_split\n",
    "X=all_texts.drop(['author', 'id', 'text'], axis=1)\n",
    "y=all_texts['author']\n",
    "X_train, X_test, y_train, y_test = train_test_split(X, y, test_size=0.33, random_state=42)"
   ]
  },
  {
   "cell_type": "code",
   "execution_count": 300,
   "metadata": {},
   "outputs": [
    {
     "data": {
      "text/plain": [
       "XGBClassifier(base_score=0.5, booster='gbtree', colsample_bylevel=1,\n",
       "       colsample_bytree=1, gamma=0, learning_rate=0.1, max_delta_step=0,\n",
       "       max_depth=3, min_child_weight=1, missing=None, n_estimators=100,\n",
       "       n_jobs=1, nthread=None, objective='multi:softprob', random_state=0,\n",
       "       reg_alpha=0, reg_lambda=1, scale_pos_weight=1, seed=None,\n",
       "       silent=True, subsample=1)"
      ]
     },
     "execution_count": 300,
     "metadata": {},
     "output_type": "execute_result"
    }
   ],
   "source": [
    "from xgboost import XGBClassifier\n",
    "model = XGBClassifier()\n",
    "model.fit(X_train, y_train)"
   ]
  },
  {
   "cell_type": "code",
   "execution_count": 301,
   "metadata": {
    "collapsed": true
   },
   "outputs": [],
   "source": [
    "preds = model.predict(X_test)"
   ]
  },
  {
   "cell_type": "code",
   "execution_count": 319,
   "metadata": {},
   "outputs": [
    {
     "name": "stdout",
     "output_type": "stream",
     "text": [
      "predicted:\n",
      " EAP    4304\n",
      "HPL    1733\n",
      "MWS     425\n",
      "dtype: int64\n",
      "actual:\n",
      " EAP    2587\n",
      "MWS    2023\n",
      "HPL    1852\n",
      "Name: author, dtype: int64\n"
     ]
    },
    {
     "data": {
      "text/plain": [
       "6462"
      ]
     },
     "execution_count": 319,
     "metadata": {},
     "output_type": "execute_result"
    }
   ],
   "source": [
    "print('predicted:\\n', pd.value_counts(preds))\n",
    "print('actual:\\n', pd.value_counts(y_test))\n",
    "len(y_test)"
   ]
  },
  {
   "cell_type": "code",
   "execution_count": 331,
   "metadata": {},
   "outputs": [
    {
     "data": {
      "text/plain": [
       "array(['EAP', 'HPL', 'MWS'], dtype=object)"
      ]
     },
     "execution_count": 331,
     "metadata": {},
     "output_type": "execute_result"
    }
   ],
   "source": [
    "np.unique(preds)"
   ]
  },
  {
   "cell_type": "code",
   "execution_count": 332,
   "metadata": {},
   "outputs": [
    {
     "name": "stdout",
     "output_type": "stream",
     "text": [
      "[[1973  474  140]\n",
      " [1000  720  132]\n",
      " [1331  539  153]]\n"
     ]
    },
    {
     "data": {
      "text/plain": [
       "<matplotlib.axes._subplots.AxesSubplot at 0x1be8a128>"
      ]
     },
     "execution_count": 332,
     "metadata": {},
     "output_type": "execute_result"
    },
    {
     "data": {
      "image/png": "[encoded data removed]",
      "text/plain": [
       "<matplotlib.figure.Figure at 0x1be9e978>"
      ]
     },
     "metadata": {},
     "output_type": "display_data"
    }
   ],
   "source": [
    "from sklearn.metrics import confusion_matrix\n",
    "c=confusion_matrix(y_test, preds)\n",
    "print(c)\n",
    "sns.heatmap(c, annot=True, fmt='d', xticklabels=np.unique(preds), yticklabels=np.unique(preds))\n"
   ]
  },
  {
   "cell_type": "code",
   "execution_count": 327,
   "metadata": {},
   "outputs": [
    {
     "data": {
      "text/plain": [
       "1852"
      ]
     },
     "execution_count": 327,
     "metadata": {},
     "output_type": "execute_result"
    }
   ],
   "source": [
    "1000+720+132"
   ]
  },
  {
   "cell_type": "code",
   "execution_count": 350,
   "metadata": {
    "collapsed": true
   },
   "outputs": [],
   "source": [
    "### Split data\n",
    "\n",
    "# split the data by author\n",
    "byAuthor = all_texts.groupby(\"author\")\n",
    "\n",
    "### Tokenize (split into individual words) our text\n",
    "\n",
    "# word frequency by author\n",
    "wordFreqByAuthor = nltk.probability.ConditionalFreqDist()\n",
    "\n",
    "# for each author...\n",
    "for name, group in byAuthor:\n",
    "    # get all of the sentences they wrote and collapse them into a\n",
    "    # single long string\n",
    "    sentences = group['text'].str.cat(sep = ' ')\n",
    "    \n",
    "    # convert everything to lower case (so \"The\" and \"the\" get counted as \n",
    "    # the same word rather than two different words)\n",
    "    sentences = sentences.lower()\n",
    "    \n",
    "    # split the text into individual tokens    \n",
    "    tokens = nltk.tokenize.word_tokenize(sentences)\n",
    "    \n",
    "    # calculate the frequency of each token\n",
    "    frequency = nltk.FreqDist(tokens)\n",
    "\n",
    "    # add the frequencies for each author to our dictionary\n",
    "    wordFreqByAuthor[name] = (frequency)\n",
    "    \n",
    "# now we have an dictionary where each entry is the frequency distrobution\n",
    "# of words for a specific author.   "
   ]
  },
  {
   "cell_type": "code",
   "execution_count": 337,
   "metadata": {
    "collapsed": true
   },
   "outputs": [],
   "source": [
    "eap_words=wordFreqByAuthor['EAP']"
   ]
  },
  {
   "cell_type": "code",
   "execution_count": 406,
   "metadata": {
    "scrolled": true
   },
   "outputs": [
    {
     "data": {
      "text/html": [
       "<div>\n",
       "<style>\n",
       "    .dataframe thead tr:only-child th {\n",
       "        text-align: right;\n",
       "    }\n",
       "\n",
       "    .dataframe thead th {\n",
       "        text-align: left;\n",
       "    }\n",
       "\n",
       "    .dataframe tbody tr th {\n",
       "        vertical-align: top;\n",
       "    }\n",
       "</style>\n",
       "<table border=\"1\" class=\"dataframe\">\n",
       "  <thead>\n",
       "    <tr>\n",
       "      <th></th>\n",
       "      <th colspan=\"2\" halign=\"left\">EAP</th>\n",
       "      <th colspan=\"2\" halign=\"left\">HPL</th>\n",
       "      <th colspan=\"2\" halign=\"left\">MWS</th>\n",
       "    </tr>\n",
       "    <tr>\n",
       "      <th></th>\n",
       "      <th>word</th>\n",
       "      <th>count</th>\n",
       "      <th>word</th>\n",
       "      <th>count</th>\n",
       "      <th>word</th>\n",
       "      <th>count</th>\n",
       "    </tr>\n",
       "  </thead>\n",
       "  <tbody>\n",
       "    <tr>\n",
       "      <th>0</th>\n",
       "      <td>,</td>\n",
       "      <td>17594</td>\n",
       "      <td>the</td>\n",
       "      <td>10933</td>\n",
       "      <td>,</td>\n",
       "      <td>12045</td>\n",
       "    </tr>\n",
       "    <tr>\n",
       "      <th>1</th>\n",
       "      <td>the</td>\n",
       "      <td>14969</td>\n",
       "      <td>,</td>\n",
       "      <td>8581</td>\n",
       "      <td>the</td>\n",
       "      <td>9657</td>\n",
       "    </tr>\n",
       "    <tr>\n",
       "      <th>2</th>\n",
       "      <td>of</td>\n",
       "      <td>8970</td>\n",
       "      <td>and</td>\n",
       "      <td>6098</td>\n",
       "      <td>of</td>\n",
       "      <td>6137</td>\n",
       "    </tr>\n",
       "    <tr>\n",
       "      <th>3</th>\n",
       "      <td>.</td>\n",
       "      <td>7655</td>\n",
       "      <td>of</td>\n",
       "      <td>5846</td>\n",
       "      <td>and</td>\n",
       "      <td>6122</td>\n",
       "    </tr>\n",
       "    <tr>\n",
       "      <th>4</th>\n",
       "      <td>and</td>\n",
       "      <td>5733</td>\n",
       "      <td>.</td>\n",
       "      <td>5699</td>\n",
       "      <td>.</td>\n",
       "      <td>5708</td>\n",
       "    </tr>\n",
       "    <tr>\n",
       "      <th>5</th>\n",
       "      <td>to</td>\n",
       "      <td>4761</td>\n",
       "      <td>a</td>\n",
       "      <td>3293</td>\n",
       "      <td>to</td>\n",
       "      <td>4829</td>\n",
       "    </tr>\n",
       "    <tr>\n",
       "      <th>6</th>\n",
       "      <td>a</td>\n",
       "      <td>4703</td>\n",
       "      <td>to</td>\n",
       "      <td>3249</td>\n",
       "      <td>i</td>\n",
       "      <td>4310</td>\n",
       "    </tr>\n",
       "    <tr>\n",
       "      <th>7</th>\n",
       "      <td>in</td>\n",
       "      <td>4124</td>\n",
       "      <td>in</td>\n",
       "      <td>2736</td>\n",
       "      <td>a</td>\n",
       "      <td>2711</td>\n",
       "    </tr>\n",
       "    <tr>\n",
       "      <th>8</th>\n",
       "      <td>i</td>\n",
       "      <td>3774</td>\n",
       "      <td>i</td>\n",
       "      <td>2704</td>\n",
       "      <td>;</td>\n",
       "      <td>2662</td>\n",
       "    </tr>\n",
       "    <tr>\n",
       "      <th>9</th>\n",
       "      <td>that</td>\n",
       "      <td>2327</td>\n",
       "      <td>was</td>\n",
       "      <td>2184</td>\n",
       "      <td>my</td>\n",
       "      <td>2659</td>\n",
       "    </tr>\n",
       "    <tr>\n",
       "      <th>10</th>\n",
       "      <td>it</td>\n",
       "      <td>2326</td>\n",
       "      <td>that</td>\n",
       "      <td>2021</td>\n",
       "      <td>in</td>\n",
       "      <td>2597</td>\n",
       "    </tr>\n",
       "    <tr>\n",
       "      <th>11</th>\n",
       "      <td>was</td>\n",
       "      <td>2229</td>\n",
       "      <td>had</td>\n",
       "      <td>1783</td>\n",
       "      <td>was</td>\n",
       "      <td>2249</td>\n",
       "    </tr>\n",
       "    <tr>\n",
       "      <th>12</th>\n",
       "      <td>my</td>\n",
       "      <td>1788</td>\n",
       "      <td>he</td>\n",
       "      <td>1647</td>\n",
       "      <td>that</td>\n",
       "      <td>2091</td>\n",
       "    </tr>\n",
       "    <tr>\n",
       "      <th>13</th>\n",
       "      <td>with</td>\n",
       "      <td>1695</td>\n",
       "      <td>it</td>\n",
       "      <td>1402</td>\n",
       "      <td>her</td>\n",
       "      <td>1657</td>\n",
       "    </tr>\n",
       "    <tr>\n",
       "      <th>14</th>\n",
       "      <td>is</td>\n",
       "      <td>1668</td>\n",
       "      <td>as</td>\n",
       "      <td>1173</td>\n",
       "      <td>his</td>\n",
       "      <td>1646</td>\n",
       "    </tr>\n",
       "    <tr>\n",
       "      <th>15</th>\n",
       "      <td>``</td>\n",
       "      <td>1628</td>\n",
       "      <td>his</td>\n",
       "      <td>1171</td>\n",
       "      <td>with</td>\n",
       "      <td>1529</td>\n",
       "    </tr>\n",
       "    <tr>\n",
       "      <th>16</th>\n",
       "      <td>at</td>\n",
       "      <td>1588</td>\n",
       "      <td>;</td>\n",
       "      <td>1143</td>\n",
       "      <td>he</td>\n",
       "      <td>1484</td>\n",
       "    </tr>\n",
       "    <tr>\n",
       "      <th>17</th>\n",
       "      <td>as</td>\n",
       "      <td>1570</td>\n",
       "      <td>with</td>\n",
       "      <td>1122</td>\n",
       "      <td>me</td>\n",
       "      <td>1473</td>\n",
       "    </tr>\n",
       "    <tr>\n",
       "      <th>18</th>\n",
       "      <td>which</td>\n",
       "      <td>1488</td>\n",
       "      <td>for</td>\n",
       "      <td>1020</td>\n",
       "      <td>had</td>\n",
       "      <td>1330</td>\n",
       "    </tr>\n",
       "    <tr>\n",
       "      <th>19</th>\n",
       "      <td>''</td>\n",
       "      <td>1359</td>\n",
       "      <td>but</td>\n",
       "      <td>979</td>\n",
       "      <td>not</td>\n",
       "      <td>1189</td>\n",
       "    </tr>\n",
       "    <tr>\n",
       "      <th>20</th>\n",
       "      <td>;</td>\n",
       "      <td>1354</td>\n",
       "      <td>my</td>\n",
       "      <td>971</td>\n",
       "      <td>it</td>\n",
       "      <td>1180</td>\n",
       "    </tr>\n",
       "    <tr>\n",
       "      <th>21</th>\n",
       "      <td>not</td>\n",
       "      <td>1347</td>\n",
       "      <td>at</td>\n",
       "      <td>940</td>\n",
       "      <td>but</td>\n",
       "      <td>1172</td>\n",
       "    </tr>\n",
       "    <tr>\n",
       "      <th>22</th>\n",
       "      <td>for</td>\n",
       "      <td>1343</td>\n",
       "      <td>on</td>\n",
       "      <td>933</td>\n",
       "      <td>for</td>\n",
       "      <td>1131</td>\n",
       "    </tr>\n",
       "    <tr>\n",
       "      <th>23</th>\n",
       "      <td>had</td>\n",
       "      <td>1318</td>\n",
       "      <td>which</td>\n",
       "      <td>920</td>\n",
       "      <td>as</td>\n",
       "      <td>1097</td>\n",
       "    </tr>\n",
       "    <tr>\n",
       "      <th>24</th>\n",
       "      <td>he</td>\n",
       "      <td>1302</td>\n",
       "      <td>from</td>\n",
       "      <td>910</td>\n",
       "      <td>on</td>\n",
       "      <td>1044</td>\n",
       "    </tr>\n",
       "    <tr>\n",
       "      <th>25</th>\n",
       "      <td>this</td>\n",
       "      <td>1296</td>\n",
       "      <td>not</td>\n",
       "      <td>894</td>\n",
       "      <td>you</td>\n",
       "      <td>1044</td>\n",
       "    </tr>\n",
       "    <tr>\n",
       "      <th>26</th>\n",
       "      <td>his</td>\n",
       "      <td>1278</td>\n",
       "      <td>were</td>\n",
       "      <td>708</td>\n",
       "      <td>by</td>\n",
       "      <td>995</td>\n",
       "    </tr>\n",
       "    <tr>\n",
       "      <th>27</th>\n",
       "      <td>by</td>\n",
       "      <td>1206</td>\n",
       "      <td>by</td>\n",
       "      <td>661</td>\n",
       "      <td>from</td>\n",
       "      <td>968</td>\n",
       "    </tr>\n",
       "    <tr>\n",
       "      <th>28</th>\n",
       "      <td>but</td>\n",
       "      <td>1200</td>\n",
       "      <td>they</td>\n",
       "      <td>648</td>\n",
       "      <td>which</td>\n",
       "      <td>961</td>\n",
       "    </tr>\n",
       "    <tr>\n",
       "      <th>29</th>\n",
       "      <td>be</td>\n",
       "      <td>1097</td>\n",
       "      <td>an</td>\n",
       "      <td>645</td>\n",
       "      <td>she</td>\n",
       "      <td>924</td>\n",
       "    </tr>\n",
       "    <tr>\n",
       "      <th>...</th>\n",
       "      <td>...</td>\n",
       "      <td>...</td>\n",
       "      <td>...</td>\n",
       "      <td>...</td>\n",
       "      <td>...</td>\n",
       "      <td>...</td>\n",
       "    </tr>\n",
       "    <tr>\n",
       "      <th>70</th>\n",
       "      <td>they</td>\n",
       "      <td>330</td>\n",
       "      <td>very</td>\n",
       "      <td>249</td>\n",
       "      <td>only</td>\n",
       "      <td>279</td>\n",
       "    </tr>\n",
       "    <tr>\n",
       "      <th>71</th>\n",
       "      <td>their</td>\n",
       "      <td>325</td>\n",
       "      <td>than</td>\n",
       "      <td>248</td>\n",
       "      <td>love</td>\n",
       "      <td>273</td>\n",
       "    </tr>\n",
       "    <tr>\n",
       "      <th>72</th>\n",
       "      <td>our</td>\n",
       "      <td>325</td>\n",
       "      <td>after</td>\n",
       "      <td>247</td>\n",
       "      <td>us</td>\n",
       "      <td>272</td>\n",
       "    </tr>\n",
       "    <tr>\n",
       "      <th>73</th>\n",
       "      <td>who</td>\n",
       "      <td>321</td>\n",
       "      <td>about</td>\n",
       "      <td>247</td>\n",
       "      <td>these</td>\n",
       "      <td>271</td>\n",
       "    </tr>\n",
       "    <tr>\n",
       "      <th>74</th>\n",
       "      <td>most</td>\n",
       "      <td>316</td>\n",
       "      <td>time</td>\n",
       "      <td>238</td>\n",
       "      <td>raymond</td>\n",
       "      <td>270</td>\n",
       "    </tr>\n",
       "    <tr>\n",
       "      <th>75</th>\n",
       "      <td>up</td>\n",
       "      <td>314</td>\n",
       "      <td>things</td>\n",
       "      <td>238</td>\n",
       "      <td>might</td>\n",
       "      <td>269</td>\n",
       "    </tr>\n",
       "    <tr>\n",
       "      <th>76</th>\n",
       "      <td>has</td>\n",
       "      <td>312</td>\n",
       "      <td>saw</td>\n",
       "      <td>235</td>\n",
       "      <td>heart</td>\n",
       "      <td>265</td>\n",
       "    </tr>\n",
       "    <tr>\n",
       "      <th>77</th>\n",
       "      <td>she</td>\n",
       "      <td>295</td>\n",
       "      <td>though</td>\n",
       "      <td>234</td>\n",
       "      <td>there</td>\n",
       "      <td>258</td>\n",
       "    </tr>\n",
       "    <tr>\n",
       "      <th>78</th>\n",
       "      <td>little</td>\n",
       "      <td>275</td>\n",
       "      <td>where</td>\n",
       "      <td>224</td>\n",
       "      <td>some</td>\n",
       "      <td>251</td>\n",
       "    </tr>\n",
       "    <tr>\n",
       "      <th>79</th>\n",
       "      <td>only</td>\n",
       "      <td>274</td>\n",
       "      <td>''</td>\n",
       "      <td>216</td>\n",
       "      <td>then</td>\n",
       "      <td>249</td>\n",
       "    </tr>\n",
       "    <tr>\n",
       "      <th>80</th>\n",
       "      <td>say</td>\n",
       "      <td>267</td>\n",
       "      <td>came</td>\n",
       "      <td>216</td>\n",
       "      <td>even</td>\n",
       "      <td>248</td>\n",
       "    </tr>\n",
       "    <tr>\n",
       "      <th>81</th>\n",
       "      <td>out</td>\n",
       "      <td>265</td>\n",
       "      <td>over</td>\n",
       "      <td>211</td>\n",
       "      <td>do</td>\n",
       "      <td>247</td>\n",
       "    </tr>\n",
       "    <tr>\n",
       "      <th>82</th>\n",
       "      <td>well</td>\n",
       "      <td>265</td>\n",
       "      <td>through</td>\n",
       "      <td>211</td>\n",
       "      <td>than</td>\n",
       "      <td>246</td>\n",
       "    </tr>\n",
       "    <tr>\n",
       "      <th>83</th>\n",
       "      <td>made</td>\n",
       "      <td>263</td>\n",
       "      <td>men</td>\n",
       "      <td>204</td>\n",
       "      <td>eyes</td>\n",
       "      <td>243</td>\n",
       "    </tr>\n",
       "    <tr>\n",
       "      <th>84</th>\n",
       "      <td>even</td>\n",
       "      <td>260</td>\n",
       "      <td>down</td>\n",
       "      <td>201</td>\n",
       "      <td>man</td>\n",
       "      <td>242</td>\n",
       "    </tr>\n",
       "    <tr>\n",
       "      <th>85</th>\n",
       "      <td>time</td>\n",
       "      <td>260</td>\n",
       "      <td>great</td>\n",
       "      <td>195</td>\n",
       "      <td>while</td>\n",
       "      <td>240</td>\n",
       "    </tr>\n",
       "    <tr>\n",
       "      <th>86</th>\n",
       "      <td>man</td>\n",
       "      <td>256</td>\n",
       "      <td>thing</td>\n",
       "      <td>195</td>\n",
       "      <td>can</td>\n",
       "      <td>234</td>\n",
       "    </tr>\n",
       "    <tr>\n",
       "      <th>87</th>\n",
       "      <td>them</td>\n",
       "      <td>255</td>\n",
       "      <td>never</td>\n",
       "      <td>193</td>\n",
       "      <td>into</td>\n",
       "      <td>234</td>\n",
       "    </tr>\n",
       "    <tr>\n",
       "      <th>88</th>\n",
       "      <td>however</td>\n",
       "      <td>254</td>\n",
       "      <td>even</td>\n",
       "      <td>192</td>\n",
       "      <td>every</td>\n",
       "      <td>233</td>\n",
       "    </tr>\n",
       "    <tr>\n",
       "      <th>89</th>\n",
       "      <td>thus</td>\n",
       "      <td>254</td>\n",
       "      <td>those</td>\n",
       "      <td>191</td>\n",
       "      <td>did</td>\n",
       "      <td>233</td>\n",
       "    </tr>\n",
       "    <tr>\n",
       "      <th>90</th>\n",
       "      <td>first</td>\n",
       "      <td>249</td>\n",
       "      <td>house</td>\n",
       "      <td>189</td>\n",
       "      <td>time</td>\n",
       "      <td>232</td>\n",
       "    </tr>\n",
       "    <tr>\n",
       "      <th>91</th>\n",
       "      <td>here</td>\n",
       "      <td>247</td>\n",
       "      <td>must</td>\n",
       "      <td>189</td>\n",
       "      <td>myself</td>\n",
       "      <td>217</td>\n",
       "    </tr>\n",
       "    <tr>\n",
       "      <th>92</th>\n",
       "      <td>such</td>\n",
       "      <td>247</td>\n",
       "      <td>if</td>\n",
       "      <td>187</td>\n",
       "      <td>must</td>\n",
       "      <td>212</td>\n",
       "    </tr>\n",
       "    <tr>\n",
       "      <th>93</th>\n",
       "      <td>can</td>\n",
       "      <td>241</td>\n",
       "      <td>found</td>\n",
       "      <td>186</td>\n",
       "      <td>first</td>\n",
       "      <td>211</td>\n",
       "    </tr>\n",
       "    <tr>\n",
       "      <th>94</th>\n",
       "      <td>other</td>\n",
       "      <td>235</td>\n",
       "      <td>n't</td>\n",
       "      <td>186</td>\n",
       "      <td>own</td>\n",
       "      <td>209</td>\n",
       "    </tr>\n",
       "    <tr>\n",
       "      <th>95</th>\n",
       "      <td>us</td>\n",
       "      <td>235</td>\n",
       "      <td>upon</td>\n",
       "      <td>186</td>\n",
       "      <td>said</td>\n",
       "      <td>208</td>\n",
       "    </tr>\n",
       "    <tr>\n",
       "      <th>96</th>\n",
       "      <td>yet</td>\n",
       "      <td>232</td>\n",
       "      <td>our</td>\n",
       "      <td>184</td>\n",
       "      <td>am</td>\n",
       "      <td>208</td>\n",
       "    </tr>\n",
       "    <tr>\n",
       "      <th>97</th>\n",
       "      <td>much</td>\n",
       "      <td>230</td>\n",
       "      <td>any</td>\n",
       "      <td>182</td>\n",
       "      <td>up</td>\n",
       "      <td>206</td>\n",
       "    </tr>\n",
       "    <tr>\n",
       "      <th>98</th>\n",
       "      <td>found</td>\n",
       "      <td>229</td>\n",
       "      <td>you</td>\n",
       "      <td>182</td>\n",
       "      <td>father</td>\n",
       "      <td>206</td>\n",
       "    </tr>\n",
       "    <tr>\n",
       "      <th>99</th>\n",
       "      <td>great</td>\n",
       "      <td>227</td>\n",
       "      <td>heard</td>\n",
       "      <td>174</td>\n",
       "      <td>day</td>\n",
       "      <td>206</td>\n",
       "    </tr>\n",
       "  </tbody>\n",
       "</table>\n",
       "<p>100 rows × 6 columns</p>\n",
       "</div>"
      ],
      "text/plain": [
       "        EAP             HPL             MWS       \n",
       "       word  count     word  count     word  count\n",
       "0         ,  17594      the  10933        ,  12045\n",
       "1       the  14969        ,   8581      the   9657\n",
       "2        of   8970      and   6098       of   6137\n",
       "3         .   7655       of   5846      and   6122\n",
       "4       and   5733        .   5699        .   5708\n",
       "5        to   4761        a   3293       to   4829\n",
       "6         a   4703       to   3249        i   4310\n",
       "7        in   4124       in   2736        a   2711\n",
       "8         i   3774        i   2704        ;   2662\n",
       "9      that   2327      was   2184       my   2659\n",
       "10       it   2326     that   2021       in   2597\n",
       "11      was   2229      had   1783      was   2249\n",
       "12       my   1788       he   1647     that   2091\n",
       "13     with   1695       it   1402      her   1657\n",
       "14       is   1668       as   1173      his   1646\n",
       "15       ``   1628      his   1171     with   1529\n",
       "16       at   1588        ;   1143       he   1484\n",
       "17       as   1570     with   1122       me   1473\n",
       "18    which   1488      for   1020      had   1330\n",
       "19       ''   1359      but    979      not   1189\n",
       "20        ;   1354       my    971       it   1180\n",
       "21      not   1347       at    940      but   1172\n",
       "22      for   1343       on    933      for   1131\n",
       "23      had   1318    which    920       as   1097\n",
       "24       he   1302     from    910       on   1044\n",
       "25     this   1296      not    894      you   1044\n",
       "26      his   1278     were    708       by    995\n",
       "27       by   1206       by    661     from    968\n",
       "28      but   1200     they    648    which    961\n",
       "29       be   1097       an    645      she    924\n",
       "..      ...    ...      ...    ...      ...    ...\n",
       "70     they    330     very    249     only    279\n",
       "71    their    325     than    248     love    273\n",
       "72      our    325    after    247       us    272\n",
       "73      who    321    about    247    these    271\n",
       "74     most    316     time    238  raymond    270\n",
       "75       up    314   things    238    might    269\n",
       "76      has    312      saw    235    heart    265\n",
       "77      she    295   though    234    there    258\n",
       "78   little    275    where    224     some    251\n",
       "79     only    274       ''    216     then    249\n",
       "80      say    267     came    216     even    248\n",
       "81      out    265     over    211       do    247\n",
       "82     well    265  through    211     than    246\n",
       "83     made    263      men    204     eyes    243\n",
       "84     even    260     down    201      man    242\n",
       "85     time    260    great    195    while    240\n",
       "86      man    256    thing    195      can    234\n",
       "87     them    255    never    193     into    234\n",
       "88  however    254     even    192    every    233\n",
       "89     thus    254    those    191      did    233\n",
       "90    first    249    house    189     time    232\n",
       "91     here    247     must    189   myself    217\n",
       "92     such    247       if    187     must    212\n",
       "93      can    241    found    186    first    211\n",
       "94    other    235      n't    186      own    209\n",
       "95       us    235     upon    186     said    208\n",
       "96      yet    232      our    184       am    208\n",
       "97     much    230      any    182       up    206\n",
       "98    found    229      you    182   father    206\n",
       "99    great    227    heard    174      day    206\n",
       "\n",
       "[100 rows x 6 columns]"
      ]
     },
     "execution_count": 406,
     "metadata": {},
     "output_type": "execute_result"
    }
   ],
   "source": [
    "index_names=(('EAP', 'word'),('EAP','count'),\n",
    "                               ('HPL', 'word'),('HPL','count'), \n",
    "                               ('MWS', 'word'),('MWS','count'))\n",
    "\n",
    "num_top_words=100\n",
    "top_words = None\n",
    "\n",
    "\n",
    "for au in wordFreqByAuthor:\n",
    "    index_names = ((au, 'word'), (au, 'count'))\n",
    "    midx = pd.MultiIndex.from_tuples(index_names)\n",
    "    newdf = pd.DataFrame(wordFreqByAuthor[au].most_common(num_top_words), columns=midx)\n",
    "    top_words= pd.concat((top_words, newdf), axis=1)\n",
    "\n",
    "top_words\n"
   ]
  },
  {
   "cell_type": "code",
   "execution_count": null,
   "metadata": {
    "collapsed": true
   },
   "outputs": [],
   "source": []
  },
  {
   "cell_type": "code",
   "execution_count": 408,
   "metadata": {
    "collapsed": true
   },
   "outputs": [],
   "source": [
    "# first, let's start with a test sentence\n",
    "testSentence = \"It was a dark and stormy night.\"\n",
    "\n",
    "# and then lowercase & tokenize our test sentence\n",
    "preProcessedTestSentence = nltk.tokenize.word_tokenize(testSentence.lower())\n",
    "\n",
    "# create an empy dataframe to put our output in\n",
    "testProbabilities = pd.DataFrame(columns = ['author','word','probability'])\n"
   ]
  },
  {
   "cell_type": "code",
   "execution_count": 410,
   "metadata": {},
   "outputs": [
    {
     "data": {
      "text/plain": [
       "['it', 'was', 'a', 'dark', 'and', 'stormy', 'night', '.']"
      ]
     },
     "execution_count": 410,
     "metadata": {},
     "output_type": "execute_result"
    }
   ],
   "source": [
    "preProcessedTestSentence"
   ]
  },
  {
   "cell_type": "code",
   "execution_count": 412,
   "metadata": {
    "collapsed": true
   },
   "outputs": [],
   "source": [
    "for i in wordFreqByAuthor.keys():\n",
    "    # for each word in our test sentence...\n",
    "    for j  in preProcessedTestSentence:\n",
    "        # find out how frequently the author used that word\n",
    "        wordFreq = wordFreqByAuthor[i].freq(j)\n",
    "        # and add a very small amount to every prob. so none of them are 0\n",
    "        smoothedWordFreq = wordFreq + 0.000001\n",
    "        # add the author, word and smoothed freq. to our dataframe\n",
    "        output = pd.DataFrame([[i, j, smoothedWordFreq]], columns = ['author','word','probability'])\n",
    "        testProbabilities = testProbabilities.append(output, ignore_index = True)\n"
   ]
  },
  {
   "cell_type": "code",
   "execution_count": 423,
   "metadata": {
    "collapsed": true
   },
   "outputs": [],
   "source": [
    "testProbailitiesByAuthor = pd.DataFrame(columns = ['author','jointProbability'])\n",
    "#for i in wordFreqByAuthor.keys():\n",
    "    i='EAP'\n",
    "    # get the joint probability that each author wrote each word\n",
    "    oneAuthor = testProbailities.query('author == \"' + i + '\"')\n",
    "    jointProbability = oneAuthor.product(numeric_only = True)[0]\n",
    "    \n",
    "    # and add that to our dataframe\n",
    "    output = pd.DataFrame([[i, jointProbability]], columns = ['author','jointProbability'])\n",
    "    testProbailitiesByAuthor = testProbailitiesByAuthor.append(output, ignore_index = True)\n"
   ]
  },
  {
   "cell_type": "code",
   "execution_count": 430,
   "metadata": {
    "collapsed": true
   },
   "outputs": [],
   "source": [
    "oneAuthor = testProbabilities.query('author == \"EAP\"')"
   ]
  },
  {
   "cell_type": "code",
   "execution_count": 434,
   "metadata": {},
   "outputs": [
    {
     "data": {
      "text/plain": [
       "pandas.core.series.Series"
      ]
     },
     "execution_count": 434,
     "metadata": {},
     "output_type": "execute_result"
    }
   ],
   "source": [
    "type(oneAuthor.product())"
   ]
  },
  {
   "cell_type": "code",
   "execution_count": 436,
   "metadata": {
    "collapsed": true
   },
   "outputs": [],
   "source": [
    "X = all_texts.drop('author', axis=1)\n",
    "y = all_texts['author']"
   ]
  },
  {
   "cell_type": "code",
   "execution_count": 463,
   "metadata": {
    "collapsed": true
   },
   "outputs": [],
   "source": [
    "from sklearn.model_selection import StratifiedKFold\n",
    "rskf = StratifiedKFold(n_splits=5, random_state=1)\n",
    "folds = rskf.split(X, y)"
   ]
  },
  {
   "cell_type": "code",
   "execution_count": 471,
   "metadata": {},
   "outputs": [
    {
     "data": {
      "text/plain": [
       "array([ 'This process, however, afforded me no means of ascertaining the dimensions of my dungeon; as I might make its circuit, and return to the point whence I set out, without being aware of the fact; so perfectly uniform seemed the wall.',\n",
       "       'It never once occurred to me that the fumbling might be a mere mistake.',\n",
       "       'In his left hand was a gold snuff box, from which, as he capered down the hill, cutting all manner of fantastic steps, he took snuff incessantly with an air of the greatest possible self satisfaction.',\n",
       "       ...,\n",
       "       'Mais il faut agir that is to say, a Frenchman never faints outright.',\n",
       "       'For an item of news like this, it strikes us it was very coolly received.\"',\n",
       "       'He laid a gnarled claw on my shoulder, and it seemed to me that its shaking was not altogether that of mirth.'], dtype=object)"
      ]
     },
     "execution_count": 471,
     "metadata": {},
     "output_type": "execute_result"
    }
   ],
   "source": [
    "all_texts['text'].values"
   ]
  },
  {
   "cell_type": "code",
   "execution_count": 468,
   "metadata": {
    "collapsed": true
   },
   "outputs": [],
   "source": [
    "lfy = [_[1] for _ in lf]"
   ]
  },
  {
   "cell_type": "code",
   "execution_count": 469,
   "metadata": {},
   "outputs": [
    {
     "data": {
      "text/plain": [
       "[array([   0,    1,    2, ..., 4021, 4024, 4033]),\n",
       " array([3851, 3855, 3864, ..., 7888, 7894, 7896]),\n",
       " array([ 7801,  7805,  7806, ..., 11803, 11805, 11807]),\n",
       " array([11692, 11697, 11700, ..., 15702, 15703, 15705]),\n",
       " array([15642, 15643, 15644, ..., 19576, 19577, 19578])]"
      ]
     },
     "execution_count": 469,
     "metadata": {},
     "output_type": "execute_result"
    }
   ],
   "source": [
    "round"
   ]
  },
  {
   "cell_type": "code",
   "execution_count": null,
   "metadata": {
    "collapsed": true
   },
   "outputs": [],
   "source": []
  }
 ],
 "metadata": {
  "kernelspec": {
   "display_name": "Python [conda env:Anaconda3]",
   "language": "python",
   "name": "conda-env-Anaconda3-py"
  },
  "language_info": {
   "codemirror_mode": {
    "name": "ipython",
    "version": 3
   },
   "file_extension": ".py",
   "mimetype": "text/x-python",
   "name": "python",
   "nbconvert_exporter": "python",
   "pygments_lexer": "ipython3",
   "version": "3.6.1"
  }
 },
 "nbformat": 4,
 "nbformat_minor": 2
}
