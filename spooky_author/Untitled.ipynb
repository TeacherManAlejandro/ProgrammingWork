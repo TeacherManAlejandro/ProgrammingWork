{
 "cells": [
  {
   "cell_type": "code",
   "execution_count": 23,
   "metadata": {},
   "outputs": [
    {
     "name": "stdout",
     "output_type": "stream",
     "text": [
      "result is  [1, 2, 3, 4, 5, 6, 7, 8, 9]\n"
     ]
    },
    {
     "data": {
      "text/plain": [
       "[1, 2, 3, 4, 5, 6, 7, 8, 9]"
      ]
     },
     "execution_count": 23,
     "metadata": {},
     "output_type": "execute_result"
    }
   ],
   "source": [
    "def self_dividing(left, right):\n",
    "    result = []\n",
    "    for i in range(left, right+1):\n",
    "        digits = str(i)\n",
    "        divides = [(d != '0') and (i % int(d) == 0) for d in digits]\n",
    "        if all(divides):\n",
    "            result.append(i)\n",
    "\n",
    "    print(\"result is \", str(result))\n",
    "    return result\n",
    "\n",
    "self_dividing(1,10)"
   ]
  },
  {
   "cell_type": "code",
   "execution_count": 44,
   "metadata": {},
   "outputs": [],
   "source": [
    "class MyCalendar:\n",
    "\n",
    "    def __init__(self):\n",
    "        self.start_to_end = dict()        \n",
    "\n",
    "    def book(self, start, end):\n",
    "        \"\"\"\n",
    "        :type start: int\n",
    "        :type end: int\n",
    "        :rtype: bool\n",
    "        \"\"\"\n",
    "        \n",
    "        new_booking_is_ok = True\n",
    "        if self.start_to_end:\n",
    "            apts_before_end = [start_time for start_time in self.start_to_end.keys() if end > start_time]\n",
    "            #print(\"apts_before_end = \", str(apts_before_end))\n",
    "            #print(\"end times are \", [self.start_to_end[apt] for apt in apts_before_end])\n",
    "            end_times = [start >= self.start_to_end[apt] for apt in apts_before_end]\n",
    "            #print(\"end times tests: \", end_times)\n",
    "            new_booking_is_ok = all(end_times)\n",
    "        \n",
    "        if new_booking_is_ok:\n",
    "            self.start_to_end[start] = end\n",
    "        \n",
    "        #print(\"start_to_end dict is now:\" + str(self.start_to_end))\n",
    "        return new_booking_is_ok\n",
    "    \n",
    "        "
   ]
  },
  {
   "cell_type": "code",
   "execution_count": 45,
   "metadata": {},
   "outputs": [
    {
     "name": "stdout",
     "output_type": "stream",
     "text": [
      "start_to_end dict is now:{10: 20}\n",
      "True\n",
      "apts_before_end =  [10]\n",
      "end times are  [20]\n",
      "end times tests:  [False]\n",
      "start_to_end dict is now:{10: 20}\n",
      "False\n",
      "apts_before_end =  [10]\n",
      "end times are  [20]\n",
      "end times tests:  [True]\n",
      "start_to_end dict is now:{10: 20, 20: 30}\n",
      "True\n"
     ]
    }
   ],
   "source": [
    "\n",
    "\n",
    "cal = MyCalendar()\n",
    "print(cal.book(10, 20))\n",
    "print(cal.book(15, 25))\n",
    "print(cal.book(20, 30))"
   ]
  },
  {
   "cell_type": "code",
   "execution_count": 34,
   "metadata": {},
   "outputs": [],
   "source": [
    "if dict(): print(\"True\")"
   ]
  },
  {
   "cell_type": "code",
   "execution_count": 72,
   "metadata": {},
   "outputs": [
    {
     "data": {
      "text/plain": [
       "4"
      ]
     },
     "execution_count": 72,
     "metadata": {},
     "output_type": "execute_result"
    }
   ],
   "source": [
    "from collections import Counter\n",
    "c = Counter(\"lalalabbbc\")\n",
    "len([x for x in c.values() if x % 2])\n"
   ]
  },
  {
   "cell_type": "code",
   "execution_count": 75,
   "metadata": {},
   "outputs": [
    {
     "data": {
      "text/plain": [
       "2112.0"
      ]
     },
     "execution_count": 75,
     "metadata": {},
     "output_type": "execute_result"
    }
   ],
   "source": [
    "4*32*33/2"
   ]
  },
  {
   "cell_type": "code",
   "execution_count": 64,
   "metadata": {
    "collapsed": true
   },
   "outputs": [],
   "source": [
    "from collections import Counter\n",
    "\n",
    "class Solution:\n",
    "    def countPalindromicSubsequences(self, S):\n",
    "        \"\"\"\n",
    "        :type S: str\n",
    "        :rtype: int\n",
    "        \"\"\"\n",
    "    \n",
    "        letter_counts = Counter(S)\n",
    "        num_odd = len([x for x in letter_counts.values() if x % 2])\n",
    "        total_num_pairs = sum([x // 2 for x in letter_counts.values()])\n",
    "        num_even = len(letter_counts) - num_odd\n",
    "        print(\"num_odd:\", str(num_odd), \"num_even: \", str(num_even), \" total_num_pairs: \" + str(total_num_pairs))\n",
    "        print(type(total_num_pairs))\n",
    "        \n",
    "        result = num_odd * (total_num_pairs+1) * (total_num_pairs+2) / 2\n",
    "        result += num_even * (total_num_pairs) * (total_num_pairs+1) / 2\n",
    "        # Results = # of unique elements with an odd one left over, * (n_pairs+1)(n_pairs+2)/2\n",
    "        # PLUS   # of unique elements with an even # of elements, * (n_pairs)(n_pairs+1)/2\n",
    "        \n",
    "        return result # % (10**9 + 7)"
   ]
  },
  {
   "cell_type": "code",
   "execution_count": 65,
   "metadata": {},
   "outputs": [
    {
     "name": "stdout",
     "output_type": "stream",
     "text": [
      "num_odd: 0 num_even:  4  total_num_pairs: 32\n",
      "<class 'int'>\n"
     ]
    },
    {
     "data": {
      "text/plain": [
       "2112.0"
      ]
     },
     "execution_count": 65,
     "metadata": {},
     "output_type": "execute_result"
    }
   ],
   "source": [
    "S = 'abcdabcdabcdabcdabcdabcdabcdabcddcbadcbadcbadcbadcbadcbadcbadcba'\n",
    "Solution().countPalindromicSubsequences(S)"
   ]
  },
  {
   "cell_type": "code",
   "execution_count": null,
   "metadata": {
    "collapsed": true
   },
   "outputs": [],
   "source": []
  }
 ],
 "metadata": {
  "kernelspec": {
   "display_name": "Python [conda env:Anaconda3]",
   "language": "python",
   "name": "conda-env-Anaconda3-py"
  },
  "language_info": {
   "codemirror_mode": {
    "name": "ipython",
    "version": 3
   },
   "file_extension": ".py",
   "mimetype": "text/x-python",
   "name": "python",
   "nbconvert_exporter": "python",
   "pygments_lexer": "ipython3",
   "version": "3.6.1"
  }
 },
 "nbformat": 4,
 "nbformat_minor": 2
}
