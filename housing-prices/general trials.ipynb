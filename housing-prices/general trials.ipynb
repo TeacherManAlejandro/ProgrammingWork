{
 "cells": [
  {
   "cell_type": "code",
   "execution_count": 1,
   "metadata": {
    "collapsed": true
   },
   "outputs": [],
   "source": [
    "import numpy as np\n",
    "import pandas as pd\n"
   ]
  },
  {
   "cell_type": "code",
   "execution_count": 4,
   "metadata": {},
   "outputs": [],
   "source": [
    "df = pd.DataFrame(np.random.random((10,12)))"
   ]
  },
  {
   "cell_type": "code",
   "execution_count": 14,
   "metadata": {},
   "outputs": [],
   "source": [
    "df.loc[2,3]=None"
   ]
  },
  {
   "cell_type": "code",
   "execution_count": 23,
   "metadata": {},
   "outputs": [],
   "source": [
    "df.drop((2,3), axis=1, inplace=True)"
   ]
  },
  {
   "cell_type": "code",
   "execution_count": 26,
   "metadata": {},
   "outputs": [
    {
     "data": {
      "text/html": [
       "<div>\n",
       "<style>\n",
       "    .dataframe thead tr:only-child th {\n",
       "        text-align: right;\n",
       "    }\n",
       "\n",
       "    .dataframe thead th {\n",
       "        text-align: left;\n",
       "    }\n",
       "\n",
       "    .dataframe tbody tr th {\n",
       "        vertical-align: top;\n",
       "    }\n",
       "</style>\n",
       "<table border=\"1\" class=\"dataframe\">\n",
       "  <thead>\n",
       "    <tr style=\"text-align: right;\">\n",
       "      <th></th>\n",
       "      <th>0</th>\n",
       "      <th>1</th>\n",
       "      <th>2</th>\n",
       "      <th>4</th>\n",
       "      <th>5</th>\n",
       "      <th>6</th>\n",
       "      <th>7</th>\n",
       "      <th>8</th>\n",
       "      <th>9</th>\n",
       "      <th>10</th>\n",
       "      <th>11</th>\n",
       "    </tr>\n",
       "  </thead>\n",
       "  <tbody>\n",
       "    <tr>\n",
       "      <th>0</th>\n",
       "      <td>0.315637</td>\n",
       "      <td>0.358427</td>\n",
       "      <td>0.511217</td>\n",
       "      <td>0.506341</td>\n",
       "      <td>0.244675</td>\n",
       "      <td>0.763998</td>\n",
       "      <td>0.144284</td>\n",
       "      <td>0.798365</td>\n",
       "      <td>0.049617</td>\n",
       "      <td>0.296696</td>\n",
       "      <td>0.860275</td>\n",
       "    </tr>\n",
       "    <tr>\n",
       "      <th>1</th>\n",
       "      <td>0.311448</td>\n",
       "      <td>0.388560</td>\n",
       "      <td>0.847687</td>\n",
       "      <td>0.330526</td>\n",
       "      <td>0.300813</td>\n",
       "      <td>0.472197</td>\n",
       "      <td>0.977288</td>\n",
       "      <td>0.718080</td>\n",
       "      <td>0.829290</td>\n",
       "      <td>0.343679</td>\n",
       "      <td>0.575525</td>\n",
       "    </tr>\n",
       "    <tr>\n",
       "      <th>2</th>\n",
       "      <td>0.316849</td>\n",
       "      <td>0.520446</td>\n",
       "      <td>0.071565</td>\n",
       "      <td>0.135464</td>\n",
       "      <td>0.519125</td>\n",
       "      <td>0.002865</td>\n",
       "      <td>0.512454</td>\n",
       "      <td>0.489464</td>\n",
       "      <td>0.849641</td>\n",
       "      <td>0.767010</td>\n",
       "      <td>0.230370</td>\n",
       "    </tr>\n",
       "    <tr>\n",
       "      <th>3</th>\n",
       "      <td>0.872243</td>\n",
       "      <td>0.895999</td>\n",
       "      <td>0.902483</td>\n",
       "      <td>0.384476</td>\n",
       "      <td>0.867971</td>\n",
       "      <td>0.865106</td>\n",
       "      <td>0.345712</td>\n",
       "      <td>0.950901</td>\n",
       "      <td>0.384284</td>\n",
       "      <td>0.621860</td>\n",
       "      <td>0.055425</td>\n",
       "    </tr>\n",
       "    <tr>\n",
       "      <th>4</th>\n",
       "      <td>0.115854</td>\n",
       "      <td>0.398076</td>\n",
       "      <td>0.313612</td>\n",
       "      <td>0.989340</td>\n",
       "      <td>0.021283</td>\n",
       "      <td>0.579319</td>\n",
       "      <td>0.779804</td>\n",
       "      <td>0.106354</td>\n",
       "      <td>0.031163</td>\n",
       "      <td>0.494273</td>\n",
       "      <td>0.935577</td>\n",
       "    </tr>\n",
       "    <tr>\n",
       "      <th>5</th>\n",
       "      <td>0.329989</td>\n",
       "      <td>0.322090</td>\n",
       "      <td>0.139090</td>\n",
       "      <td>0.727618</td>\n",
       "      <td>0.895571</td>\n",
       "      <td>0.586341</td>\n",
       "      <td>0.654069</td>\n",
       "      <td>0.264892</td>\n",
       "      <td>0.718634</td>\n",
       "      <td>0.772841</td>\n",
       "      <td>0.335199</td>\n",
       "    </tr>\n",
       "    <tr>\n",
       "      <th>6</th>\n",
       "      <td>0.312264</td>\n",
       "      <td>0.813791</td>\n",
       "      <td>0.885333</td>\n",
       "      <td>0.984370</td>\n",
       "      <td>0.657784</td>\n",
       "      <td>0.020924</td>\n",
       "      <td>0.048744</td>\n",
       "      <td>0.621043</td>\n",
       "      <td>0.414620</td>\n",
       "      <td>0.627433</td>\n",
       "      <td>0.944427</td>\n",
       "    </tr>\n",
       "    <tr>\n",
       "      <th>7</th>\n",
       "      <td>0.771428</td>\n",
       "      <td>0.411516</td>\n",
       "      <td>0.795335</td>\n",
       "      <td>0.109483</td>\n",
       "      <td>0.833686</td>\n",
       "      <td>0.180414</td>\n",
       "      <td>0.875249</td>\n",
       "      <td>0.472819</td>\n",
       "      <td>0.460867</td>\n",
       "      <td>0.194592</td>\n",
       "      <td>0.777218</td>\n",
       "    </tr>\n",
       "    <tr>\n",
       "      <th>8</th>\n",
       "      <td>0.762442</td>\n",
       "      <td>0.643372</td>\n",
       "      <td>0.759062</td>\n",
       "      <td>0.549653</td>\n",
       "      <td>0.030946</td>\n",
       "      <td>0.451807</td>\n",
       "      <td>0.948251</td>\n",
       "      <td>0.572369</td>\n",
       "      <td>0.438936</td>\n",
       "      <td>0.179381</td>\n",
       "      <td>0.526798</td>\n",
       "    </tr>\n",
       "    <tr>\n",
       "      <th>9</th>\n",
       "      <td>0.200869</td>\n",
       "      <td>0.529583</td>\n",
       "      <td>0.027123</td>\n",
       "      <td>0.998210</td>\n",
       "      <td>0.339330</td>\n",
       "      <td>0.126075</td>\n",
       "      <td>0.552509</td>\n",
       "      <td>0.935499</td>\n",
       "      <td>0.473965</td>\n",
       "      <td>0.878842</td>\n",
       "      <td>0.154651</td>\n",
       "    </tr>\n",
       "  </tbody>\n",
       "</table>\n",
       "</div>"
      ],
      "text/plain": [
       "         0         1         2         4         5         6         7   \\\n",
       "0  0.315637  0.358427  0.511217  0.506341  0.244675  0.763998  0.144284   \n",
       "1  0.311448  0.388560  0.847687  0.330526  0.300813  0.472197  0.977288   \n",
       "2  0.316849  0.520446  0.071565  0.135464  0.519125  0.002865  0.512454   \n",
       "3  0.872243  0.895999  0.902483  0.384476  0.867971  0.865106  0.345712   \n",
       "4  0.115854  0.398076  0.313612  0.989340  0.021283  0.579319  0.779804   \n",
       "5  0.329989  0.322090  0.139090  0.727618  0.895571  0.586341  0.654069   \n",
       "6  0.312264  0.813791  0.885333  0.984370  0.657784  0.020924  0.048744   \n",
       "7  0.771428  0.411516  0.795335  0.109483  0.833686  0.180414  0.875249   \n",
       "8  0.762442  0.643372  0.759062  0.549653  0.030946  0.451807  0.948251   \n",
       "9  0.200869  0.529583  0.027123  0.998210  0.339330  0.126075  0.552509   \n",
       "\n",
       "         8         9         10        11  \n",
       "0  0.798365  0.049617  0.296696  0.860275  \n",
       "1  0.718080  0.829290  0.343679  0.575525  \n",
       "2  0.489464  0.849641  0.767010  0.230370  \n",
       "3  0.950901  0.384284  0.621860  0.055425  \n",
       "4  0.106354  0.031163  0.494273  0.935577  \n",
       "5  0.264892  0.718634  0.772841  0.335199  \n",
       "6  0.621043  0.414620  0.627433  0.944427  \n",
       "7  0.472819  0.460867  0.194592  0.777218  \n",
       "8  0.572369  0.438936  0.179381  0.526798  \n",
       "9  0.935499  0.473965  0.878842  0.154651  "
      ]
     },
     "execution_count": 26,
     "metadata": {},
     "output_type": "execute_result"
    }
   ],
   "source": [
    "df.dropna(axis=1, subset="
   ]
  },
  {
   "cell_type": "code",
   "execution_count": 51,
   "metadata": {},
   "outputs": [],
   "source": [
    "import math\n",
    "\n",
    "max_depth = 100\n",
    "num=6\n",
    "\n",
    "def sqrtof(x, depth):\n",
    "    global max_depth\n",
    "    \n",
    "    if (depth == max_depth):\n",
    "        result = math.sqrt(x)\n",
    "    else:\n",
    "        result = math.sqrt(x + sqrtof(x, depth+1))\n",
    "    \n",
    "    return result\n",
    "\n",
    "# print(\"sqrtof(6, 1) with max depth == {:d}:\".format(max_depth), result)\n",
    "# print(\"int(result) == result returns \", int(result) == result)\n",
    "\n",
    "result_list = []\n",
    "for i in range(1,1001):\n",
    "#    print(\"trying \", i)\n",
    "    result = sqrtof(i,1)\n",
    "    if result == int(result):\n",
    "        result_list.append(i) "
   ]
  },
  {
   "cell_type": "code",
   "execution_count": 53,
   "metadata": {},
   "outputs": [
    {
     "data": {
      "text/plain": [
       "31"
      ]
     },
     "execution_count": 53,
     "metadata": {},
     "output_type": "execute_result"
    }
   ],
   "source": [
    "len(result_list)"
   ]
  },
  {
   "cell_type": "code",
   "execution_count": 54,
   "metadata": {
    "collapsed": true
   },
   "outputs": [],
   "source": [
    "import numpy as np"
   ]
  },
  {
   "cell_type": "code",
   "execution_count": null,
   "metadata": {
    "collapsed": true
   },
   "outputs": [],
   "source": [
    "np.dtype"
   ]
  }
 ],
 "metadata": {
  "kernelspec": {
   "display_name": "Python [conda env:Anaconda3]",
   "language": "python",
   "name": "conda-env-Anaconda3-py"
  },
  "language_info": {
   "codemirror_mode": {
    "name": "ipython",
    "version": 3
   },
   "file_extension": ".py",
   "mimetype": "text/x-python",
   "name": "python",
   "nbconvert_exporter": "python",
   "pygments_lexer": "ipython3",
   "version": "3.6.1"
  }
 },
 "nbformat": 4,
 "nbformat_minor": 2
}
