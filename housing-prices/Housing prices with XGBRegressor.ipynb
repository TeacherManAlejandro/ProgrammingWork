{
 "cells": [
  {
   "cell_type": "code",
   "execution_count": 83,
   "metadata": {
    "collapsed": true
   },
   "outputs": [],
   "source": [
    "import pandas as pd\n",
    "import numpy as np\n",
    "from sklearn.ensemble import GradientBoostingRegressor\n",
    "from sklearn.ensemble import RandomForestRegressor\n",
    "from sklearn.model_selection import train_test_split\n",
    "from sklearn.metrics import mean_absolute_error\n",
    "from sklearn.preprocessing import Imputer\n"
   ]
  },
  {
   "cell_type": "code",
   "execution_count": 2,
   "metadata": {
    "collapsed": true
   },
   "outputs": [],
   "source": [
    "train_data_all = pd.read_csv(\"housing_data_TRAIN.csv\")\n",
    "train_data=train_data_all.select_dtypes(exclude=['object'])\n"
   ]
  },
  {
   "cell_type": "code",
   "execution_count": 10,
   "metadata": {},
   "outputs": [],
   "source": [
    "#X_train.info()\n",
    "cols_with_null = [col for col in train_data.isnull().any().index if train_data.isnull().any()[col]]\n",
    "#cols_with_null2 = [col for col in train_data if train_data[col].isnull().any()]\n"
   ]
  },
  {
   "cell_type": "code",
   "execution_count": 12,
   "metadata": {},
   "outputs": [],
   "source": [
    "X_train, X_test, y_train, y_test = train_test_split(train_data.drop(\"SalePrice\", axis=1), \n",
    "                                                        train_data['SalePrice'], test_size=0.33, \n",
    "                                                        random_state=42)\n",
    "\n",
    "X_train_dropnulls = X_train.drop(cols_with_null, axis=1)\n",
    "X_test_dropnulls = X_test.drop(cols_with_null, axis=1)\n",
    "\n",
    "my_imputer = Imputer()\n",
    "X_train_imputed = pd.DataFrame(my_imputer.fit_transform(X_train), index=X_train.index, columns=X_train.columns)\n",
    "X_test_imputed = pd.DataFrame(my_imputer.transform(X_test),index=X_test.index, columns=X_test.columns)\n",
    "\n"
   ]
  },
  {
   "cell_type": "code",
   "execution_count": 69,
   "metadata": {},
   "outputs": [],
   "source": [
    "#pd.concat((X_test[cols_with_null], X_test_imputed[cols_with_null]), axis=1, keys=['orig', 'imputed'])\n",
    "#Print any columns in X_test[cols_with_null] where the cell values are different from the cell \n",
    "# values in x_test_imputed[cols_with_null].\n",
    "# Uses the pandas.ne funciton to find cells that are different\n",
    "#X_test[cols_with_null][X_test[cols_with_null].ne(X_test_imputed[cols_with_null], axis=1).any(axis=1)]\n"
   ]
  },
  {
   "cell_type": "code",
   "execution_count": 86,
   "metadata": {},
   "outputs": [
    {
     "data": {
      "text/plain": [
       "18106.787691817808"
      ]
     },
     "execution_count": 86,
     "metadata": {},
     "output_type": "execute_result"
    }
   ],
   "source": [
    "data_to_use = X_train_imputed\n",
    "gbr = GradientBoostingRegressor()\n",
    "gbr.fit(data_to_use, y_train)\n",
    "predicted = gbr.predict(X_test_imputed)\n",
    "mae_imputed = mean_absolute_error(y_test, predicted)\n",
    "mae_imputed"
   ]
  },
  {
   "cell_type": "code",
   "execution_count": 102,
   "metadata": {
    "collapsed": true
   },
   "outputs": [],
   "source": [
    "max_leaf_results=results"
   ]
  },
  {
   "cell_type": "code",
   "execution_count": 117,
   "metadata": {},
   "outputs": [
    {
     "data": {
      "text/plain": [
       "17251.754323936024"
      ]
     },
     "execution_count": 117,
     "metadata": {},
     "output_type": "execute_result"
    }
   ],
   "source": [
    "data_to_use = X_train_imputed\n",
    "#lr_results = []\n",
    "#for max_leaves in [5,10,20,50,100,200,500,1000,2000,5000,10000]:\n",
    "#for lr in [.01,.02, .04, .06, .1, .2]:\n",
    "gbr_tuned = GradientBoostingRegressor(max_leaf_nodes=10,learning_rate=.1)\n",
    "gbr_tuned.fit(data_to_use, y_train) \n",
    "predicted = gbr_tuned.predict(X_test_imputed)\n",
    "mae_imputed = mean_absolute_error(y_test, predicted)\n",
    "mae_imputed\n",
    "#lr_results.append((lr, mae_imputed))\n",
    "\n",
    "#print(lr_results)"
   ]
  },
  {
   "cell_type": "code",
   "execution_count": 116,
   "metadata": {},
   "outputs": [
    {
     "data": {
      "text/plain": [
       "array([[     0.1       ,  17224.37109173],\n",
       "       [     0.1       ,  17352.33835584],\n",
       "       [     0.2       ,  17838.20266343],\n",
       "       [     0.2       ,  17899.77437875],\n",
       "       [     0.04      ,  17908.05220527],\n",
       "       [     0.06      ,  17954.23475308],\n",
       "       [     0.06      ,  18025.39331073],\n",
       "       [     0.04      ,  18033.15418019],\n",
       "       [     0.02      ,  21467.13339519],\n",
       "       [     0.02      ,  21563.67391189],\n",
       "       [     0.01      ,  30656.40253661],\n",
       "       [     0.01      ,  30704.62451616]])"
      ]
     },
     "execution_count": 116,
     "metadata": {},
     "output_type": "execute_result"
    }
   ],
   "source": [
    "np.set_printoptions(suppress=True)\n",
    "a=np.asarray(lr_results)\n",
    "a[a[:,1].argsort()]"
   ]
  },
  {
   "cell_type": "code",
   "execution_count": 100,
   "metadata": {},
   "outputs": [
    {
     "data": {
      "text/plain": [
       "(10, 17725.129032720026)"
      ]
     },
     "execution_count": 100,
     "metadata": {},
     "output_type": "execute_result"
    }
   ],
   "source": [
    "results[np.argmin([j for i, j in results])]"
   ]
  },
  {
   "cell_type": "code",
   "execution_count": 84,
   "metadata": {},
   "outputs": [
    {
     "data": {
      "text/plain": [
       "18854.311825726141"
      ]
     },
     "execution_count": 84,
     "metadata": {},
     "output_type": "execute_result"
    }
   ],
   "source": [
    "# Compare to a RandomForest\n",
    "rf_regressor = RandomForestRegressor()\n",
    "# Fit with dropnulls\n",
    "rf_regressor.fit(X_train_imputed, y_train)\n",
    "predicted = rf_regressor.predict(X_test_imputed)\n",
    "mae_dropnulls = mean_absolute_error(y_test, predicted)\n",
    "mae_dropnulls"
   ]
  },
  {
   "cell_type": "code",
   "execution_count": 90,
   "metadata": {},
   "outputs": [
    {
     "name": "stdout",
     "output_type": "stream",
     "text": [
      "MAE dropping columns with nulls:  19395.9226141\n",
      "MAE imputing values for fields with nulls:  18751.5514523\n",
      "MAE with imputed values and _was_null column:  18989.8529046\n"
     ]
    }
   ],
   "source": [
    "print(\"MAE dropping columns with nulls: \", mae_dropnulls)\n",
    "print(\"MAE imputing values for fields with nulls: \", mae_imputed)\n",
    "print(\"MAE with imputed values and _was_null column: \", mae_imputed_with_was_missing)\n"
   ]
  },
  {
   "cell_type": "code",
   "execution_count": 92,
   "metadata": {},
   "outputs": [
    {
     "data": {
      "text/html": [
       "<div>\n",
       "<style>\n",
       "    .dataframe thead tr:only-child th {\n",
       "        text-align: right;\n",
       "    }\n",
       "\n",
       "    .dataframe thead th {\n",
       "        text-align: left;\n",
       "    }\n",
       "\n",
       "    .dataframe tbody tr th {\n",
       "        vertical-align: top;\n",
       "    }\n",
       "</style>\n",
       "<table border=\"1\" class=\"dataframe\">\n",
       "  <thead>\n",
       "    <tr style=\"text-align: right;\">\n",
       "      <th></th>\n",
       "      <th>Id</th>\n",
       "      <th>MSSubClass</th>\n",
       "      <th>LotFrontage</th>\n",
       "      <th>LotArea</th>\n",
       "      <th>OverallQual</th>\n",
       "      <th>OverallCond</th>\n",
       "      <th>YearBuilt</th>\n",
       "      <th>YearRemodAdd</th>\n",
       "      <th>MasVnrArea</th>\n",
       "      <th>BsmtFinSF1</th>\n",
       "      <th>...</th>\n",
       "      <th>EnclosedPorch</th>\n",
       "      <th>3SsnPorch</th>\n",
       "      <th>ScreenPorch</th>\n",
       "      <th>PoolArea</th>\n",
       "      <th>MiscVal</th>\n",
       "      <th>MoSold</th>\n",
       "      <th>YrSold</th>\n",
       "      <th>LotFrontage_was_missing</th>\n",
       "      <th>MasVnrArea_was_missing</th>\n",
       "      <th>GarageYrBlt_was_missing</th>\n",
       "    </tr>\n",
       "  </thead>\n",
       "  <tbody>\n",
       "    <tr>\n",
       "      <th>1329</th>\n",
       "      <td>1330.0</td>\n",
       "      <td>60.0</td>\n",
       "      <td>63.000000</td>\n",
       "      <td>9084.0</td>\n",
       "      <td>7.0</td>\n",
       "      <td>5.0</td>\n",
       "      <td>1998.0</td>\n",
       "      <td>1998.0</td>\n",
       "      <td>0.0</td>\n",
       "      <td>0.0</td>\n",
       "      <td>...</td>\n",
       "      <td>0.0</td>\n",
       "      <td>0.0</td>\n",
       "      <td>0.0</td>\n",
       "      <td>0.0</td>\n",
       "      <td>0.0</td>\n",
       "      <td>6.0</td>\n",
       "      <td>2006.0</td>\n",
       "      <td>0.0</td>\n",
       "      <td>0.0</td>\n",
       "      <td>0.0</td>\n",
       "    </tr>\n",
       "    <tr>\n",
       "      <th>242</th>\n",
       "      <td>243.0</td>\n",
       "      <td>50.0</td>\n",
       "      <td>63.000000</td>\n",
       "      <td>5000.0</td>\n",
       "      <td>5.0</td>\n",
       "      <td>4.0</td>\n",
       "      <td>1900.0</td>\n",
       "      <td>1950.0</td>\n",
       "      <td>0.0</td>\n",
       "      <td>0.0</td>\n",
       "      <td>...</td>\n",
       "      <td>77.0</td>\n",
       "      <td>0.0</td>\n",
       "      <td>0.0</td>\n",
       "      <td>0.0</td>\n",
       "      <td>0.0</td>\n",
       "      <td>4.0</td>\n",
       "      <td>2006.0</td>\n",
       "      <td>0.0</td>\n",
       "      <td>0.0</td>\n",
       "      <td>0.0</td>\n",
       "    </tr>\n",
       "    <tr>\n",
       "      <th>1313</th>\n",
       "      <td>1314.0</td>\n",
       "      <td>60.0</td>\n",
       "      <td>108.000000</td>\n",
       "      <td>14774.0</td>\n",
       "      <td>9.0</td>\n",
       "      <td>5.0</td>\n",
       "      <td>1999.0</td>\n",
       "      <td>1999.0</td>\n",
       "      <td>165.0</td>\n",
       "      <td>0.0</td>\n",
       "      <td>...</td>\n",
       "      <td>0.0</td>\n",
       "      <td>0.0</td>\n",
       "      <td>0.0</td>\n",
       "      <td>0.0</td>\n",
       "      <td>0.0</td>\n",
       "      <td>5.0</td>\n",
       "      <td>2010.0</td>\n",
       "      <td>0.0</td>\n",
       "      <td>0.0</td>\n",
       "      <td>0.0</td>\n",
       "    </tr>\n",
       "    <tr>\n",
       "      <th>805</th>\n",
       "      <td>806.0</td>\n",
       "      <td>20.0</td>\n",
       "      <td>91.000000</td>\n",
       "      <td>12274.0</td>\n",
       "      <td>7.0</td>\n",
       "      <td>5.0</td>\n",
       "      <td>2008.0</td>\n",
       "      <td>2008.0</td>\n",
       "      <td>256.0</td>\n",
       "      <td>0.0</td>\n",
       "      <td>...</td>\n",
       "      <td>0.0</td>\n",
       "      <td>0.0</td>\n",
       "      <td>0.0</td>\n",
       "      <td>0.0</td>\n",
       "      <td>0.0</td>\n",
       "      <td>7.0</td>\n",
       "      <td>2008.0</td>\n",
       "      <td>0.0</td>\n",
       "      <td>0.0</td>\n",
       "      <td>0.0</td>\n",
       "    </tr>\n",
       "    <tr>\n",
       "      <th>580</th>\n",
       "      <td>581.0</td>\n",
       "      <td>20.0</td>\n",
       "      <td>70.049958</td>\n",
       "      <td>14585.0</td>\n",
       "      <td>6.0</td>\n",
       "      <td>6.0</td>\n",
       "      <td>1960.0</td>\n",
       "      <td>1987.0</td>\n",
       "      <td>85.0</td>\n",
       "      <td>594.0</td>\n",
       "      <td>...</td>\n",
       "      <td>0.0</td>\n",
       "      <td>0.0</td>\n",
       "      <td>0.0</td>\n",
       "      <td>0.0</td>\n",
       "      <td>0.0</td>\n",
       "      <td>6.0</td>\n",
       "      <td>2007.0</td>\n",
       "      <td>1.0</td>\n",
       "      <td>0.0</td>\n",
       "      <td>0.0</td>\n",
       "    </tr>\n",
       "    <tr>\n",
       "      <th>974</th>\n",
       "      <td>975.0</td>\n",
       "      <td>70.0</td>\n",
       "      <td>60.000000</td>\n",
       "      <td>11414.0</td>\n",
       "      <td>7.0</td>\n",
       "      <td>8.0</td>\n",
       "      <td>1910.0</td>\n",
       "      <td>1993.0</td>\n",
       "      <td>0.0</td>\n",
       "      <td>0.0</td>\n",
       "      <td>...</td>\n",
       "      <td>0.0</td>\n",
       "      <td>0.0</td>\n",
       "      <td>0.0</td>\n",
       "      <td>0.0</td>\n",
       "      <td>0.0</td>\n",
       "      <td>10.0</td>\n",
       "      <td>2009.0</td>\n",
       "      <td>0.0</td>\n",
       "      <td>0.0</td>\n",
       "      <td>0.0</td>\n",
       "    </tr>\n",
       "    <tr>\n",
       "      <th>1211</th>\n",
       "      <td>1212.0</td>\n",
       "      <td>50.0</td>\n",
       "      <td>152.000000</td>\n",
       "      <td>12134.0</td>\n",
       "      <td>8.0</td>\n",
       "      <td>7.0</td>\n",
       "      <td>1988.0</td>\n",
       "      <td>2005.0</td>\n",
       "      <td>0.0</td>\n",
       "      <td>427.0</td>\n",
       "      <td>...</td>\n",
       "      <td>0.0</td>\n",
       "      <td>0.0</td>\n",
       "      <td>0.0</td>\n",
       "      <td>0.0</td>\n",
       "      <td>0.0</td>\n",
       "      <td>6.0</td>\n",
       "      <td>2010.0</td>\n",
       "      <td>0.0</td>\n",
       "      <td>0.0</td>\n",
       "      <td>0.0</td>\n",
       "    </tr>\n",
       "    <tr>\n",
       "      <th>1202</th>\n",
       "      <td>1203.0</td>\n",
       "      <td>50.0</td>\n",
       "      <td>50.000000</td>\n",
       "      <td>6000.0</td>\n",
       "      <td>5.0</td>\n",
       "      <td>8.0</td>\n",
       "      <td>1925.0</td>\n",
       "      <td>1997.0</td>\n",
       "      <td>0.0</td>\n",
       "      <td>0.0</td>\n",
       "      <td>...</td>\n",
       "      <td>208.0</td>\n",
       "      <td>0.0</td>\n",
       "      <td>0.0</td>\n",
       "      <td>0.0</td>\n",
       "      <td>0.0</td>\n",
       "      <td>5.0</td>\n",
       "      <td>2009.0</td>\n",
       "      <td>0.0</td>\n",
       "      <td>0.0</td>\n",
       "      <td>0.0</td>\n",
       "    </tr>\n",
       "    <tr>\n",
       "      <th>1135</th>\n",
       "      <td>1136.0</td>\n",
       "      <td>30.0</td>\n",
       "      <td>60.000000</td>\n",
       "      <td>6180.0</td>\n",
       "      <td>6.0</td>\n",
       "      <td>5.0</td>\n",
       "      <td>1926.0</td>\n",
       "      <td>1950.0</td>\n",
       "      <td>0.0</td>\n",
       "      <td>0.0</td>\n",
       "      <td>...</td>\n",
       "      <td>0.0</td>\n",
       "      <td>0.0</td>\n",
       "      <td>0.0</td>\n",
       "      <td>0.0</td>\n",
       "      <td>0.0</td>\n",
       "      <td>5.0</td>\n",
       "      <td>2007.0</td>\n",
       "      <td>0.0</td>\n",
       "      <td>0.0</td>\n",
       "      <td>0.0</td>\n",
       "    </tr>\n",
       "    <tr>\n",
       "      <th>1227</th>\n",
       "      <td>1228.0</td>\n",
       "      <td>20.0</td>\n",
       "      <td>72.000000</td>\n",
       "      <td>8872.0</td>\n",
       "      <td>5.0</td>\n",
       "      <td>8.0</td>\n",
       "      <td>1965.0</td>\n",
       "      <td>2008.0</td>\n",
       "      <td>300.0</td>\n",
       "      <td>595.0</td>\n",
       "      <td>...</td>\n",
       "      <td>0.0</td>\n",
       "      <td>0.0</td>\n",
       "      <td>0.0</td>\n",
       "      <td>0.0</td>\n",
       "      <td>0.0</td>\n",
       "      <td>12.0</td>\n",
       "      <td>2008.0</td>\n",
       "      <td>0.0</td>\n",
       "      <td>0.0</td>\n",
       "      <td>0.0</td>\n",
       "    </tr>\n",
       "  </tbody>\n",
       "</table>\n",
       "<p>10 rows × 40 columns</p>\n",
       "</div>"
      ],
      "text/plain": [
       "          Id  MSSubClass  LotFrontage  LotArea  OverallQual  OverallCond  \\\n",
       "1329  1330.0        60.0    63.000000   9084.0          7.0          5.0   \n",
       "242    243.0        50.0    63.000000   5000.0          5.0          4.0   \n",
       "1313  1314.0        60.0   108.000000  14774.0          9.0          5.0   \n",
       "805    806.0        20.0    91.000000  12274.0          7.0          5.0   \n",
       "580    581.0        20.0    70.049958  14585.0          6.0          6.0   \n",
       "974    975.0        70.0    60.000000  11414.0          7.0          8.0   \n",
       "1211  1212.0        50.0   152.000000  12134.0          8.0          7.0   \n",
       "1202  1203.0        50.0    50.000000   6000.0          5.0          8.0   \n",
       "1135  1136.0        30.0    60.000000   6180.0          6.0          5.0   \n",
       "1227  1228.0        20.0    72.000000   8872.0          5.0          8.0   \n",
       "\n",
       "      YearBuilt  YearRemodAdd  MasVnrArea  BsmtFinSF1  \\\n",
       "1329     1998.0        1998.0         0.0         0.0   \n",
       "242      1900.0        1950.0         0.0         0.0   \n",
       "1313     1999.0        1999.0       165.0         0.0   \n",
       "805      2008.0        2008.0       256.0         0.0   \n",
       "580      1960.0        1987.0        85.0       594.0   \n",
       "974      1910.0        1993.0         0.0         0.0   \n",
       "1211     1988.0        2005.0         0.0       427.0   \n",
       "1202     1925.0        1997.0         0.0         0.0   \n",
       "1135     1926.0        1950.0         0.0         0.0   \n",
       "1227     1965.0        2008.0       300.0       595.0   \n",
       "\n",
       "               ...             EnclosedPorch  3SsnPorch  ScreenPorch  \\\n",
       "1329           ...                       0.0        0.0          0.0   \n",
       "242            ...                      77.0        0.0          0.0   \n",
       "1313           ...                       0.0        0.0          0.0   \n",
       "805            ...                       0.0        0.0          0.0   \n",
       "580            ...                       0.0        0.0          0.0   \n",
       "974            ...                       0.0        0.0          0.0   \n",
       "1211           ...                       0.0        0.0          0.0   \n",
       "1202           ...                     208.0        0.0          0.0   \n",
       "1135           ...                       0.0        0.0          0.0   \n",
       "1227           ...                       0.0        0.0          0.0   \n",
       "\n",
       "      PoolArea  MiscVal  MoSold  YrSold  LotFrontage_was_missing  \\\n",
       "1329       0.0      0.0     6.0  2006.0                      0.0   \n",
       "242        0.0      0.0     4.0  2006.0                      0.0   \n",
       "1313       0.0      0.0     5.0  2010.0                      0.0   \n",
       "805        0.0      0.0     7.0  2008.0                      0.0   \n",
       "580        0.0      0.0     6.0  2007.0                      1.0   \n",
       "974        0.0      0.0    10.0  2009.0                      0.0   \n",
       "1211       0.0      0.0     6.0  2010.0                      0.0   \n",
       "1202       0.0      0.0     5.0  2009.0                      0.0   \n",
       "1135       0.0      0.0     5.0  2007.0                      0.0   \n",
       "1227       0.0      0.0    12.0  2008.0                      0.0   \n",
       "\n",
       "      MasVnrArea_was_missing  GarageYrBlt_was_missing  \n",
       "1329                     0.0                      0.0  \n",
       "242                      0.0                      0.0  \n",
       "1313                     0.0                      0.0  \n",
       "805                      0.0                      0.0  \n",
       "580                      0.0                      0.0  \n",
       "974                      0.0                      0.0  \n",
       "1211                     0.0                      0.0  \n",
       "1202                     0.0                      0.0  \n",
       "1135                     0.0                      0.0  \n",
       "1227                     0.0                      0.0  \n",
       "\n",
       "[10 rows x 40 columns]"
      ]
     },
     "execution_count": 92,
     "metadata": {},
     "output_type": "execute_result"
    }
   ],
   "source": [
    "X_train.sample(10)\n"
   ]
  },
  {
   "cell_type": "code",
   "execution_count": 95,
   "metadata": {},
   "outputs": [
    {
     "data": {
      "text/plain": [
       "array(['1', 'a', '3.0'],\n",
       "      dtype='<U11')"
      ]
     },
     "execution_count": 95,
     "metadata": {},
     "output_type": "execute_result"
    }
   ],
   "source": [
    "np.asarray([1,\"a\",3.0])"
   ]
  },
  {
   "cell_type": "code",
   "execution_count": null,
   "metadata": {
    "collapsed": true
   },
   "outputs": [],
   "source": [
    "np."
   ]
  }
 ],
 "metadata": {
  "kernelspec": {
   "display_name": "Python [conda env:Anaconda3]",
   "language": "python",
   "name": "conda-env-Anaconda3-py"
  },
  "language_info": {
   "codemirror_mode": {
    "name": "ipython",
    "version": 3
   },
   "file_extension": ".py",
   "mimetype": "text/x-python",
   "name": "python",
   "nbconvert_exporter": "python",
   "pygments_lexer": "ipython3",
   "version": "3.6.1"
  }
 },
 "nbformat": 4,
 "nbformat_minor": 2
}
