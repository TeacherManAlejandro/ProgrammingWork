{
 "cells": [
  {
   "cell_type": "code",
   "execution_count": 1,
   "metadata": {
    "collapsed": true
   },
   "outputs": [],
   "source": [
    "import pandas as pd\n",
    "import numpy as np\n",
    "from sklearn.ensemble import GradientBoostingRegressor\n",
    "from sklearn.ensemble import RandomForestRegressor\n",
    "from sklearn.model_selection import train_test_split\n",
    "from sklearn.metrics import mean_absolute_error\n",
    "from sklearn.preprocessing import Imputer\n",
    "from sklearn.ensemble.partial_dependence import plot_partial_dependence"
   ]
  },
  {
   "cell_type": "code",
   "execution_count": 2,
   "metadata": {
    "collapsed": true
   },
   "outputs": [],
   "source": [
    "train_data_all = pd.read_csv(\"housing_data_TRAIN.csv\")\n",
    "train_data=train_data_all.select_dtypes(exclude=['object'])\n"
   ]
  },
  {
   "cell_type": "code",
   "execution_count": 3,
   "metadata": {
    "collapsed": true
   },
   "outputs": [],
   "source": [
    "#X_train.info()\n",
    "cols_with_null = [col for col in train_data.isnull().any().index if train_data.isnull().any()[col]]\n",
    "#cols_with_null2 = [col for col in train_data if train_data[col].isnull().any()]\n"
   ]
  },
  {
   "cell_type": "code",
   "execution_count": 4,
   "metadata": {
    "collapsed": true
   },
   "outputs": [],
   "source": [
    "X_train, X_test, y_train, y_test = train_test_split(train_data.drop(\"SalePrice\", axis=1), \n",
    "                                                        train_data['SalePrice'], test_size=0.33, \n",
    "                                                        random_state=42)\n",
    "\n",
    "X_train_dropnulls = X_train.drop(cols_with_null, axis=1)\n",
    "X_test_dropnulls = X_test.drop(cols_with_null, axis=1)\n",
    "\n",
    "my_imputer = Imputer()\n",
    "X_train_imputed = pd.DataFrame(my_imputer.fit_transform(X_train), index=X_train.index, columns=X_train.columns)\n",
    "X_test_imputed = pd.DataFrame(my_imputer.transform(X_test),index=X_test.index, columns=X_test.columns)\n",
    "\n"
   ]
  },
  {
   "cell_type": "code",
   "execution_count": 5,
   "metadata": {},
   "outputs": [
    {
     "data": {
      "text/plain": [
       "18057.600158756271"
      ]
     },
     "execution_count": 5,
     "metadata": {},
     "output_type": "execute_result"
    }
   ],
   "source": [
    "data_to_use = X_train_imputed\n",
    "gbr = GradientBoostingRegressor()\n",
    "gbr.fit(data_to_use, y_train)\n",
    "predicted = gbr.predict(X_test_imputed)\n",
    "mae_imputed = mean_absolute_error(y_test, predicted)\n",
    "mae_imputed"
   ]
  },
  {
   "cell_type": "code",
   "execution_count": 102,
   "metadata": {
    "collapsed": true
   },
   "outputs": [],
   "source": [
    "max_leaf_results=results"
   ]
  },
  {
   "cell_type": "code",
   "execution_count": 27,
   "metadata": {},
   "outputs": [
    {
     "data": {
      "text/plain": [
       "17186.357470274175"
      ]
     },
     "execution_count": 27,
     "metadata": {},
     "output_type": "execute_result"
    }
   ],
   "source": [
    "data_to_use = X_train_imputed\n",
    "lr_results = []\n",
    "#for max_leaves in [5,10,20,50,100,200,500,1000,2000,5000,10000]:\n",
    "#for lr in [.01,.02, .04, .06, .1, .2]:\n",
    "lr = .1\n",
    "gbr_tuned = GradientBoostingRegressor(max_leaf_nodes=10,learning_rate=.1)\n",
    "gbr_tuned.fit(data_to_use, y_train) \n",
    "predicted = gbr_tuned.predict(X_test_imputed)\n",
    "mae_imputed = mean_absolute_error(y_test, predicted)\n",
    "lr_results.append([lr, mae_imputed])\n",
    "mae_imputed\n",
    "#print(lr_results)"
   ]
  },
  {
   "cell_type": "code",
   "execution_count": 74,
   "metadata": {},
   "outputs": [
    {
     "data": {
      "text/plain": [
       "0                Id\n",
       "1        MSSubClass\n",
       "2       LotFrontage\n",
       "3           LotArea\n",
       "4       OverallQual\n",
       "5       OverallCond\n",
       "6         YearBuilt\n",
       "7      YearRemodAdd\n",
       "8        MasVnrArea\n",
       "9        BsmtFinSF1\n",
       "10       BsmtFinSF2\n",
       "11        BsmtUnfSF\n",
       "12      TotalBsmtSF\n",
       "13         1stFlrSF\n",
       "14         2ndFlrSF\n",
       "15     LowQualFinSF\n",
       "16        GrLivArea\n",
       "17     BsmtFullBath\n",
       "18     BsmtHalfBath\n",
       "19         FullBath\n",
       "20         HalfBath\n",
       "21     BedroomAbvGr\n",
       "22     KitchenAbvGr\n",
       "23     TotRmsAbvGrd\n",
       "24       Fireplaces\n",
       "25      GarageYrBlt\n",
       "26       GarageCars\n",
       "27       GarageArea\n",
       "28       WoodDeckSF\n",
       "29      OpenPorchSF\n",
       "30    EnclosedPorch\n",
       "31        3SsnPorch\n",
       "32      ScreenPorch\n",
       "33         PoolArea\n",
       "34          MiscVal\n",
       "35           MoSold\n",
       "36           YrSold\n",
       "dtype: object"
      ]
     },
     "execution_count": 74,
     "metadata": {},
     "output_type": "execute_result"
    }
   ],
   "source": [
    "pd.Series(X_train_imputed.columns, index=range(0,len(X_train_imputed.columns)))\n",
    "#list(pd.Series(X_train_imputed.columns).iloc[[3,6,17]])\n"
   ]
  },
  {
   "cell_type": "code",
   "execution_count": 76,
   "metadata": {},
   "outputs": [
    {
     "data": {
      "text/plain": [
       "(<matplotlib.figure.Figure at 0xc718ef0>,\n",
       " [<matplotlib.axes._subplots.AxesSubplot at 0xc7f0ba8>,\n",
       "  <matplotlib.axes._subplots.AxesSubplot at 0xca13940>,\n",
       "  <matplotlib.axes._subplots.AxesSubplot at 0xc858550>,\n",
       "  <matplotlib.axes._subplots.AxesSubplot at 0xc898dd8>])"
      ]
     },
     "execution_count": 76,
     "metadata": {},
     "output_type": "execute_result"
    },
    {
     "data": {
      "image/png": "[encoded data removed]",
      "text/plain": [
       "<matplotlib.figure.Figure at 0xc718ef0>"
      ]
     },
     "metadata": {},
     "output_type": "display_data"
    }
   ],
   "source": [
    "feature_columns=[3,6,16,23]\n",
    "feature_names=list(pd.Series(X_train_imputed.columns))\n",
    "%matplotlib inline\n",
    "plot_partial_dependence(gbr_tuned, features=feature_columns, feature_names=feature_names, X=X_train_imputed, grid_resolution=20, figsize=(10,8))"
   ]
  },
  {
   "cell_type": "code",
   "execution_count": 84,
   "metadata": {},
   "outputs": [
    {
     "data": {
      "text/plain": [
       "18854.311825726141"
      ]
     },
     "execution_count": 84,
     "metadata": {},
     "output_type": "execute_result"
    }
   ],
   "source": [
    "# Compare to a RandomForest\n",
    "rf_regressor = RandomForestRegressor()\n",
    "# Fit with dropnulls\n",
    "rf_regressor.fit(X_train_imputed, y_train)\n",
    "predicted = rf_regressor.predict(X_test_imputed)\n",
    "mae_dropnulls = mean_absolute_error(y_test, predicted)\n",
    "mae_dropnulls"
   ]
  },
  {
   "cell_type": "code",
   "execution_count": 90,
   "metadata": {},
   "outputs": [
    {
     "name": "stdout",
     "output_type": "stream",
     "text": [
      "MAE dropping columns with nulls:  19395.9226141\n",
      "MAE imputing values for fields with nulls:  18751.5514523\n",
      "MAE with imputed values and _was_null column:  18989.8529046\n"
     ]
    }
   ],
   "source": []
  }
 ],
 "metadata": {
  "kernelspec": {
   "display_name": "Python [conda env:Anaconda3]",
   "language": "python",
   "name": "conda-env-Anaconda3-py"
  },
  "language_info": {
   "codemirror_mode": {
    "name": "ipython",
    "version": 3
   },
   "file_extension": ".py",
   "mimetype": "text/x-python",
   "name": "python",
   "nbconvert_exporter": "python",
   "pygments_lexer": "ipython3",
   "version": "3.6.1"
  }
 },
 "nbformat": 4,
 "nbformat_minor": 2
}
